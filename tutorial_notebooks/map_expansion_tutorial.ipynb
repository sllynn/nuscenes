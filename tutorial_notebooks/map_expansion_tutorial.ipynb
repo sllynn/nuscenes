{
 "cells": [
  {
   "cell_type": "markdown",
   "metadata": {
    "application/vnd.databricks.v1+cell": {
     "cellMetadata": {
      "byteLimit": 2048000,
      "rowLimit": 10000
     },
     "inputWidgets": {},
     "nuid": "1abd94e9-e822-4313-bfb1-6898a71c883f",
     "showTitle": false,
     "title": ""
    }
   },
   "source": [
    "# nuScenes Map Expansion Tutorial"
   ]
  },
  {
   "cell_type": "markdown",
   "metadata": {
    "application/vnd.databricks.v1+cell": {
     "cellMetadata": {
      "byteLimit": 2048000,
      "rowLimit": 10000
     },
     "inputWidgets": {},
     "nuid": "4aa52217-fce6-45f0-a937-f031903aea74",
     "showTitle": false,
     "title": ""
    }
   },
   "source": [
    "This is the tutorial for the nuScenes map expansion. In particular, the `NuScenesMap` data class. \n",
    "\n",
    "This tutorial will go through the description of each layers, how we retrieve and query a certain record within the map layers, render methods, and advanced data exploration\n",
    "\n",
    "In database terms, layers are basically tables of the map database in which we assign arbitrary parts of the maps with informative labels such as `traffic_light`, `stop_line`, `walkway`, etc. Refer to the discussion on layers for more details."
   ]
  },
  {
   "cell_type": "markdown",
   "metadata": {
    "application/vnd.databricks.v1+cell": {
     "cellMetadata": {
      "byteLimit": 2048000,
      "rowLimit": 10000
     },
     "inputWidgets": {},
     "nuid": "91eb66fe-78f9-48f7-8778-3033c62efd6e",
     "showTitle": false,
     "title": ""
    }
   },
   "source": [
    "## Setup\n",
    "To install the map expansion, please download the files from https://www.nuscenes.org/download and copy the files into your nuScenes map folder, e.g. `/data/sets/nuscenes/maps`."
   ]
  },
  {
   "cell_type": "markdown",
   "metadata": {
    "application/vnd.databricks.v1+cell": {
     "cellMetadata": {
      "byteLimit": 2048000,
      "rowLimit": 10000
     },
     "inputWidgets": {},
     "nuid": "c3e9a3ad-3f7a-46c7-b888-cc4bf3d2bebd",
     "showTitle": false,
     "title": ""
    }
   },
   "source": [
    "### Initialization\n",
    "\n",
    "We will be working with the `singapore-onenorth` map. The `NuScenesMap` can be initialized as follows:"
   ]
  },
  {
   "cell_type": "code",
   "execution_count": 0,
   "metadata": {
    "application/vnd.databricks.v1+cell": {
     "cellMetadata": {
      "byteLimit": 2048000,
      "rowLimit": 10000
     },
     "inputWidgets": {},
     "nuid": "c21bdb87-ed13-47ed-bfd7-cec0ead33a7a",
     "showTitle": false,
     "title": ""
    },
    "jupyter": {
     "outputs_hidden": true
    }
   },
   "outputs": [],
   "source": [
    "%pip install tqdm nuscenes-devkit"
   ]
  },
  {
   "cell_type": "code",
   "execution_count": 0,
   "metadata": {
    "application/vnd.databricks.v1+cell": {
     "cellMetadata": {
      "byteLimit": 2048000,
      "rowLimit": 10000
     },
     "inputWidgets": {},
     "nuid": "b58fee48-9ebe-475b-a897-558e1e0f814b",
     "showTitle": false,
     "title": ""
    }
   },
   "outputs": [],
   "source": [
    "import matplotlib.pyplot as plt\n",
    "import tqdm\n",
    "import numpy as np\n",
    "\n",
    "from nuscenes.map_expansion.map_api import NuScenesMap\n",
    "from nuscenes.map_expansion import arcline_path_utils\n",
    "from nuscenes.map_expansion.bitmap import BitMap\n",
    "\n",
    "nusc_map = NuScenesMap(dataroot='/Volumes/stuart/aptiv/nuscenes', map_name='singapore-onenorth')"
   ]
  },
  {
   "cell_type": "markdown",
   "metadata": {
    "application/vnd.databricks.v1+cell": {
     "cellMetadata": {
      "byteLimit": 2048000,
      "rowLimit": 10000
     },
     "inputWidgets": {},
     "nuid": "416ec496-64c6-4447-a092-c26ccd6f6b6e",
     "showTitle": false,
     "title": ""
    }
   },
   "source": [
    "## Visualization"
   ]
  },
  {
   "cell_type": "markdown",
   "metadata": {
    "application/vnd.databricks.v1+cell": {
     "cellMetadata": {
      "byteLimit": 2048000,
      "rowLimit": 10000
     },
     "inputWidgets": {},
     "nuid": "edbcd116-8232-40f6-8cce-887f0874b7b6",
     "showTitle": false,
     "title": ""
    }
   },
   "source": [
    "Before we go into the details, let's visualize the map."
   ]
  },
  {
   "cell_type": "markdown",
   "metadata": {
    "application/vnd.databricks.v1+cell": {
     "cellMetadata": {
      "byteLimit": 2048000,
      "rowLimit": 10000
     },
     "inputWidgets": {},
     "nuid": "f21a48da-660b-4b0e-8f8e-f3d1fbbc4fc6",
     "showTitle": false,
     "title": ""
    }
   },
   "source": [
    "### Rendering multiple layers\n",
    "\n",
    "The `NuScenesMap` class makes it possible to render multiple map layers on a matplotlib figure."
   ]
  },
  {
   "cell_type": "code",
   "execution_count": 0,
   "metadata": {
    "application/vnd.databricks.v1+cell": {
     "cellMetadata": {
      "byteLimit": 2048000,
      "rowLimit": 10000
     },
     "inputWidgets": {},
     "nuid": "e5d89627-2e51-4609-9f52-a7c9da79d633",
     "showTitle": false,
     "title": ""
    },
    "scrolled": false
   },
   "outputs": [],
   "source": [
    "fig, ax = nusc_map.render_layers(nusc_map.non_geometric_layers, figsize=1)"
   ]
  },
  {
   "cell_type": "markdown",
   "metadata": {
    "application/vnd.databricks.v1+cell": {
     "cellMetadata": {
      "byteLimit": 2048000,
      "rowLimit": 10000
     },
     "inputWidgets": {},
     "nuid": "7366f27f-0ecb-4eee-83d4-bb2e3398794d",
     "showTitle": false,
     "title": ""
    }
   },
   "source": [
    "### Rendering the lidar basemap\n",
    "**New:** We can render the HD lidar basemap used for localization. The basemap is a bitmap image that can be underlaid for most functions (`render_centerlines`, `render_egoposes_on_fancy_map`, `render_layers`, `render_map_patch`, `render_next_roads`, `render_record`). The same `BitMap` class can also be used to render the semantic prior (drivable surface + sidewalk) from the original nuScenes release. Note that in this visualization we only show the `lane` annotations for better visibility."
   ]
  },
  {
   "cell_type": "code",
   "execution_count": 0,
   "metadata": {
    "application/vnd.databricks.v1+cell": {
     "cellMetadata": {
      "byteLimit": 2048000,
      "rowLimit": 10000
     },
     "inputWidgets": {},
     "nuid": "c7900174-b456-4fbd-822b-7e94ead38b7f",
     "showTitle": false,
     "title": ""
    }
   },
   "outputs": [],
   "source": [
    "bitmap = BitMap(nusc_map.dataroot, nusc_map.map_name, 'basemap')\n",
    "fig, ax = nusc_map.render_layers(['lane'], figsize=1, bitmap=bitmap)"
   ]
  },
  {
   "cell_type": "markdown",
   "metadata": {
    "application/vnd.databricks.v1+cell": {
     "cellMetadata": {
      "byteLimit": 2048000,
      "rowLimit": 10000
     },
     "inputWidgets": {},
     "nuid": "64bb08b3-b279-48b5-a914-8438039484fb",
     "showTitle": false,
     "title": ""
    }
   },
   "source": [
    "### Rendering a particular record of the map layer\n",
    "\n",
    "We can render a record, which will show its global and local view"
   ]
  },
  {
   "cell_type": "code",
   "execution_count": 0,
   "metadata": {
    "application/vnd.databricks.v1+cell": {
     "cellMetadata": {
      "byteLimit": 2048000,
      "rowLimit": 10000
     },
     "inputWidgets": {},
     "nuid": "9656da9f-fe56-4bb4-a7da-4a0c370db72f",
     "showTitle": false,
     "title": ""
    },
    "scrolled": false
   },
   "outputs": [],
   "source": [
    "fig, ax = nusc_map.render_record('stop_line', nusc_map.stop_line[14]['token'], other_layers=[], bitmap=bitmap)"
   ]
  },
  {
   "cell_type": "markdown",
   "metadata": {
    "application/vnd.databricks.v1+cell": {
     "cellMetadata": {
      "byteLimit": 2048000,
      "rowLimit": 10000
     },
     "inputWidgets": {},
     "nuid": "6035ee12-815e-4246-88a0-327f00a49e4d",
     "showTitle": false,
     "title": ""
    }
   },
   "source": [
    "### Rendering binary map mask layers\n",
    "\n",
    "The `NuScenesMap` class makes it possible to convert multiple map layers into binary mask and render on a Matplotlib figure. First let's call `get_map_mask` to look at the raw data of two layers:"
   ]
  },
  {
   "cell_type": "code",
   "execution_count": 0,
   "metadata": {
    "application/vnd.databricks.v1+cell": {
     "cellMetadata": {
      "byteLimit": 2048000,
      "rowLimit": 10000
     },
     "inputWidgets": {},
     "nuid": "8417743f-02e2-4bbe-87d2-bd6b1702233f",
     "showTitle": false,
     "title": ""
    }
   },
   "outputs": [],
   "source": [
    "patch_box = (300, 1700, 100, 100)\n",
    "patch_angle = 0  # Default orientation where North is up\n",
    "layer_names = ['drivable_area', 'walkway']\n",
    "canvas_size = (1000, 1000)\n",
    "map_mask = nusc_map.get_map_mask(patch_box, patch_angle, layer_names, canvas_size)\n",
    "map_mask[0]"
   ]
  },
  {
   "cell_type": "markdown",
   "metadata": {
    "application/vnd.databricks.v1+cell": {
     "cellMetadata": {
      "byteLimit": 2048000,
      "rowLimit": 10000
     },
     "inputWidgets": {},
     "nuid": "3e6f1695-aa0d-4873-9c6e-96eaa3f0a9b1",
     "showTitle": false,
     "title": ""
    }
   },
   "source": [
    "Now we directly visualize the map mask retrieved above using `render_map_mask`:"
   ]
  },
  {
   "cell_type": "code",
   "execution_count": 0,
   "metadata": {
    "application/vnd.databricks.v1+cell": {
     "cellMetadata": {
      "byteLimit": 2048000,
      "rowLimit": 10000
     },
     "inputWidgets": {},
     "nuid": "5ea2f12c-cb92-40af-9f97-d5e25c0de693",
     "showTitle": false,
     "title": ""
    }
   },
   "outputs": [],
   "source": [
    "figsize = (12, 4)\n",
    "fig, ax = nusc_map.render_map_mask(patch_box, patch_angle, layer_names, canvas_size, figsize=figsize, n_row=1)"
   ]
  },
  {
   "cell_type": "markdown",
   "metadata": {
    "application/vnd.databricks.v1+cell": {
     "cellMetadata": {
      "byteLimit": 2048000,
      "rowLimit": 10000
     },
     "inputWidgets": {},
     "nuid": "64404276-2d9a-4103-ab42-704f6510108e",
     "showTitle": false,
     "title": ""
    }
   },
   "source": [
    "We can also render the same map rotated by 45 degrees clockwise:"
   ]
  },
  {
   "cell_type": "code",
   "execution_count": 0,
   "metadata": {
    "application/vnd.databricks.v1+cell": {
     "cellMetadata": {
      "byteLimit": 2048000,
      "rowLimit": 10000
     },
     "inputWidgets": {},
     "nuid": "ca829b16-4df0-4095-9abb-ac6de0a7a085",
     "showTitle": false,
     "title": ""
    }
   },
   "outputs": [],
   "source": [
    "fig, ax = nusc_map.render_map_mask(patch_box, 45, layer_names, canvas_size, figsize=figsize, n_row=1)"
   ]
  },
  {
   "cell_type": "markdown",
   "metadata": {
    "application/vnd.databricks.v1+cell": {
     "cellMetadata": {
      "byteLimit": 2048000,
      "rowLimit": 10000
     },
     "inputWidgets": {},
     "nuid": "e5f74575-8ff1-4fb5-9e2c-7be92e9efea9",
     "showTitle": false,
     "title": ""
    }
   },
   "source": [
    "### Rendering map layers on top of camera images\n",
    "Let us take a nuScenes camera image and overlay the relevant map layers.\n",
    "Note that the projections are not perfect if the ground is uneven as the localization is 2d."
   ]
  },
  {
   "cell_type": "code",
   "execution_count": 0,
   "metadata": {
    "application/vnd.databricks.v1+cell": {
     "cellMetadata": {
      "byteLimit": 2048000,
      "rowLimit": 10000
     },
     "inputWidgets": {},
     "nuid": "765a9b3f-d94e-4533-bdc3-a4bd7d49ab0e",
     "showTitle": false,
     "title": ""
    }
   },
   "outputs": [],
   "source": [
    "# Init nuScenes. Requires the dataset to be stored on disk.\n",
    "from nuscenes.nuscenes import NuScenes\n",
    "nusc = NuScenes(dataroot=\"/Volumes/stuart/aptiv/nuscenes\", version='v1.0-mini', verbose=False)\n",
    "\n",
    "# Pick a sample and render the front camera image.\n",
    "sample_token = nusc.sample[9]['token']\n",
    "layer_names = ['road_segment', 'lane', 'ped_crossing', 'walkway', 'stop_line', 'carpark_area']\n",
    "camera_channel = 'CAM_FRONT'\n",
    "nusc_map.render_map_in_image(nusc, sample_token, layer_names=layer_names, camera_channel=camera_channel)"
   ]
  },
  {
   "cell_type": "markdown",
   "metadata": {
    "application/vnd.databricks.v1+cell": {
     "cellMetadata": {
      "byteLimit": 2048000,
      "rowLimit": 10000
     },
     "inputWidgets": {},
     "nuid": "f3c12454-bc86-456d-83b4-b7b78ac71b56",
     "showTitle": false,
     "title": ""
    }
   },
   "source": [
    "### Rendering ego poses on the map\n",
    "We can also plot the ego poses onto the map. This requires us to load up the `NuScenes` class, which can take some time."
   ]
  },
  {
   "cell_type": "code",
   "execution_count": 0,
   "metadata": {
    "application/vnd.databricks.v1+cell": {
     "cellMetadata": {
      "byteLimit": 2048000,
      "rowLimit": 10000
     },
     "inputWidgets": {},
     "nuid": "f1dcd826-2138-43be-8b91-ad5878c6b9bf",
     "showTitle": false,
     "title": ""
    }
   },
   "outputs": [],
   "source": [
    "# Init NuScenes. Requires the dataset to be stored on disk.\n",
    "from nuscenes.nuscenes import NuScenes\n",
    "nusc = NuScenes(dataroot=\"/Volumes/stuart/aptiv/nuscenes\", version='v1.0-mini', verbose=False)\n",
    "\n",
    "# Render ego poses.\n",
    "nusc_map_bos = NuScenesMap(dataroot='/Volumes/stuart/aptiv/nuscenes', map_name='boston-seaport')\n",
    "ego_poses = nusc_map_bos.render_egoposes_on_fancy_map(nusc, scene_tokens=[nusc.scene[1]['token']], verbose=False)"
   ]
  },
  {
   "cell_type": "markdown",
   "metadata": {
    "application/vnd.databricks.v1+cell": {
     "cellMetadata": {
      "byteLimit": 2048000,
      "rowLimit": 10000
     },
     "inputWidgets": {},
     "nuid": "f1061139-f7de-4e84-a9f3-6b09e58c4791",
     "showTitle": false,
     "title": ""
    }
   },
   "source": [
    "## Navigation\n",
    "We also provide functions for navigation around the road network. For this purpose, the road layers `lane`, `road_block` and `road_segment` are especially useful (see definitions below). The `get_next_roads(x, y)` function looks at the road layer at a particular point. It then retrieves the next road object in the direction of the `lane` or `road_block`. As `road_segments` do not have a direction (e.g. intersections), we return all possible next roads."
   ]
  },
  {
   "cell_type": "code",
   "execution_count": 0,
   "metadata": {
    "application/vnd.databricks.v1+cell": {
     "cellMetadata": {
      "byteLimit": 2048000,
      "rowLimit": 10000
     },
     "inputWidgets": {},
     "nuid": "97569f8f-b5d3-4a71-8910-305343c4e2a9",
     "showTitle": false,
     "title": ""
    }
   },
   "outputs": [],
   "source": [
    "x = 873\n",
    "y = 1286\n",
    "print('Road objects on selected point:', nusc_map.layers_on_point(x, y), '\\n')\n",
    "print('Next road objects:', nusc_map.get_next_roads(x, y))"
   ]
  },
  {
   "cell_type": "markdown",
   "metadata": {
    "application/vnd.databricks.v1+cell": {
     "cellMetadata": {
      "byteLimit": 2048000,
      "rowLimit": 10000
     },
     "inputWidgets": {},
     "nuid": "4be1b1a1-f532-437d-94fb-be92b38deea8",
     "showTitle": false,
     "title": ""
    }
   },
   "source": [
    "We can also visualize the next roads using the `render_next_roads(x, y)` function. We see that there are 3 adjacent roads to the intersection specified by (x, y)."
   ]
  },
  {
   "cell_type": "code",
   "execution_count": 0,
   "metadata": {
    "application/vnd.databricks.v1+cell": {
     "cellMetadata": {
      "byteLimit": 2048000,
      "rowLimit": 10000
     },
     "inputWidgets": {},
     "nuid": "e57957f4-e285-47d5-aab7-2f1bb7698fca",
     "showTitle": false,
     "title": ""
    }
   },
   "outputs": [],
   "source": [
    "nusc_map.render_next_roads(x, y, figsize=1, bitmap=bitmap)"
   ]
  },
  {
   "cell_type": "markdown",
   "metadata": {
    "application/vnd.databricks.v1+cell": {
     "cellMetadata": {
      "byteLimit": 2048000,
      "rowLimit": 10000
     },
     "inputWidgets": {},
     "nuid": "faa5f1b9-4650-4f8e-be28-cb89b51b6626",
     "showTitle": false,
     "title": ""
    }
   },
   "source": [
    "### Working with Lanes\n",
    "For the prediction challenge we added connectivity information to the map expansion (v1.2) to efficiently query which lane is connected to which other lanes. Below we render the lane and lane_connector objects. The lanes and lane_connectors are defined by parametric curves. The `resolution_meters` parameter specifies the discretization resolution of the curve. If we set it to a high value (e.g. 100), the curves will appear as straight lines. We recommend setting this value to 1m or less."
   ]
  },
  {
   "cell_type": "code",
   "execution_count": 0,
   "metadata": {
    "application/vnd.databricks.v1+cell": {
     "cellMetadata": {
      "byteLimit": 2048000,
      "rowLimit": 10000
     },
     "inputWidgets": {},
     "nuid": "0e00b221-2e2a-4b13-a8d8-ff62aa2ecce1",
     "showTitle": false,
     "title": ""
    }
   },
   "outputs": [],
   "source": [
    "nusc_map.render_centerlines(resolution_meters=0.5, figsize=1, bitmap=bitmap)"
   ]
  },
  {
   "cell_type": "markdown",
   "metadata": {
    "application/vnd.databricks.v1+cell": {
     "cellMetadata": {
      "byteLimit": 2048000,
      "rowLimit": 10000
     },
     "inputWidgets": {},
     "nuid": "3eaafbef-ac97-41e2-8659-b09f5e5c3938",
     "showTitle": false,
     "title": ""
    }
   },
   "source": [
    "To get the closest lane to a location, use the `get_closest_lane` method. To see the internal data representation of the lane, use the `get_lane_record` method. \n",
    "You can also explore the connectivity of the lanes, with the `get_outgoing_lanes` and `get_incoming_lane` methods."
   ]
  },
  {
   "cell_type": "code",
   "execution_count": 0,
   "metadata": {
    "application/vnd.databricks.v1+cell": {
     "cellMetadata": {
      "byteLimit": 2048000,
      "rowLimit": 10000
     },
     "inputWidgets": {},
     "nuid": "adca4be9-3aec-4671-b9b5-eace143ccefa",
     "showTitle": false,
     "title": ""
    }
   },
   "outputs": [],
   "source": [
    "x, y, yaw = 395, 1095, 0\n",
    "closest_lane = nusc_map.get_closest_lane(x, y, radius=2)\n",
    "closest_lane"
   ]
  },
  {
   "cell_type": "code",
   "execution_count": 0,
   "metadata": {
    "application/vnd.databricks.v1+cell": {
     "cellMetadata": {
      "byteLimit": 2048000,
      "rowLimit": 10000
     },
     "inputWidgets": {},
     "nuid": "00b8f411-8a3a-44e6-9635-8fb589797bd1",
     "showTitle": false,
     "title": ""
    }
   },
   "outputs": [],
   "source": [
    "lane_record = nusc_map.get_arcline_path(closest_lane)\n",
    "lane_record"
   ]
  },
  {
   "cell_type": "code",
   "execution_count": 0,
   "metadata": {
    "application/vnd.databricks.v1+cell": {
     "cellMetadata": {
      "byteLimit": 2048000,
      "rowLimit": 10000
     },
     "inputWidgets": {},
     "nuid": "572a38ee-a45f-4581-8395-2b8ba8660873",
     "showTitle": false,
     "title": ""
    }
   },
   "outputs": [],
   "source": [
    "nusc_map.get_incoming_lane_ids(closest_lane)"
   ]
  },
  {
   "cell_type": "code",
   "execution_count": 0,
   "metadata": {
    "application/vnd.databricks.v1+cell": {
     "cellMetadata": {
      "byteLimit": 2048000,
      "rowLimit": 10000
     },
     "inputWidgets": {},
     "nuid": "49cb4f20-8a0d-41a5-863b-7f51ae4c6386",
     "showTitle": false,
     "title": ""
    }
   },
   "outputs": [],
   "source": [
    "nusc_map.get_outgoing_lane_ids(closest_lane)"
   ]
  },
  {
   "cell_type": "markdown",
   "metadata": {
    "application/vnd.databricks.v1+cell": {
     "cellMetadata": {
      "byteLimit": 2048000,
      "rowLimit": 10000
     },
     "inputWidgets": {},
     "nuid": "0e869080-f9b1-459c-b5f6-7ff38be5308e",
     "showTitle": false,
     "title": ""
    }
   },
   "source": [
    "To help manipulate the lanes, we've added an `arcline_path_utils` module. For example, something you might want to do is discretize a lane into a sequence of poses."
   ]
  },
  {
   "cell_type": "code",
   "execution_count": 0,
   "metadata": {
    "application/vnd.databricks.v1+cell": {
     "cellMetadata": {
      "byteLimit": 2048000,
      "rowLimit": 10000
     },
     "inputWidgets": {},
     "nuid": "93633139-ec9a-4a6a-b6ac-f90172959008",
     "showTitle": false,
     "title": ""
    }
   },
   "outputs": [],
   "source": [
    "poses = arcline_path_utils.discretize_lane(lane_record, resolution_meters=1)\n",
    "poses"
   ]
  },
  {
   "cell_type": "markdown",
   "metadata": {
    "application/vnd.databricks.v1+cell": {
     "cellMetadata": {
      "byteLimit": 2048000,
      "rowLimit": 10000
     },
     "inputWidgets": {},
     "nuid": "cd1a5bd2-7743-44d5-9cb0-1cd96ae34dfb",
     "showTitle": false,
     "title": ""
    }
   },
   "source": [
    "Given a query pose, you can also find the closest pose on a lane."
   ]
  },
  {
   "cell_type": "code",
   "execution_count": 0,
   "metadata": {
    "application/vnd.databricks.v1+cell": {
     "cellMetadata": {
      "byteLimit": 2048000,
      "rowLimit": 10000
     },
     "inputWidgets": {},
     "nuid": "60a1809f-b2f0-44c1-9472-4093c3ed42ce",
     "showTitle": false,
     "title": ""
    }
   },
   "outputs": [],
   "source": [
    "closest_pose_on_lane, distance_along_lane = arcline_path_utils.project_pose_to_lane((x, y, yaw), lane_record)"
   ]
  },
  {
   "cell_type": "code",
   "execution_count": 0,
   "metadata": {
    "application/vnd.databricks.v1+cell": {
     "cellMetadata": {
      "byteLimit": 2048000,
      "rowLimit": 10000
     },
     "inputWidgets": {},
     "nuid": "9690b246-0cc0-4382-84f3-30b416a76d8c",
     "showTitle": false,
     "title": ""
    }
   },
   "outputs": [],
   "source": [
    "print(x, y, yaw)\n",
    "closest_pose_on_lane"
   ]
  },
  {
   "cell_type": "code",
   "execution_count": 0,
   "metadata": {
    "application/vnd.databricks.v1+cell": {
     "cellMetadata": {
      "byteLimit": 2048000,
      "rowLimit": 10000
     },
     "inputWidgets": {},
     "nuid": "a98c05c3-231e-4e77-ac63-456357f14b3d",
     "showTitle": false,
     "title": ""
    }
   },
   "outputs": [],
   "source": [
    "# Meters\n",
    "distance_along_lane"
   ]
  },
  {
   "cell_type": "markdown",
   "metadata": {
    "application/vnd.databricks.v1+cell": {
     "cellMetadata": {
      "byteLimit": 2048000,
      "rowLimit": 10000
     },
     "inputWidgets": {},
     "nuid": "39c758eb-eac3-4660-bb69-3fd960101ce8",
     "showTitle": false,
     "title": ""
    }
   },
   "source": [
    "To find the entire length of the lane, you can use the `length_of_lane` function."
   ]
  },
  {
   "cell_type": "code",
   "execution_count": 0,
   "metadata": {
    "application/vnd.databricks.v1+cell": {
     "cellMetadata": {
      "byteLimit": 2048000,
      "rowLimit": 10000
     },
     "inputWidgets": {},
     "nuid": "36e000cc-e312-4f8f-9e69-8324df01d27a",
     "showTitle": false,
     "title": ""
    }
   },
   "outputs": [],
   "source": [
    "arcline_path_utils.length_of_lane(lane_record)"
   ]
  },
  {
   "cell_type": "markdown",
   "metadata": {
    "application/vnd.databricks.v1+cell": {
     "cellMetadata": {
      "byteLimit": 2048000,
      "rowLimit": 10000
     },
     "inputWidgets": {},
     "nuid": "82c6d74d-80f3-4e65-b7a8-96cf499d9191",
     "showTitle": false,
     "title": ""
    }
   },
   "source": [
    "You can also compute the curvature of a lane at a given length along the lane."
   ]
  },
  {
   "cell_type": "code",
   "execution_count": 0,
   "metadata": {
    "application/vnd.databricks.v1+cell": {
     "cellMetadata": {
      "byteLimit": 2048000,
      "rowLimit": 10000
     },
     "inputWidgets": {},
     "nuid": "829864b3-f33a-4534-8b61-7b0f9eeb9ad8",
     "showTitle": false,
     "title": ""
    }
   },
   "outputs": [],
   "source": [
    "# 0 means it is a straight lane\n",
    "arcline_path_utils.get_curvature_at_distance_along_lane(distance_along_lane, lane_record)"
   ]
  },
  {
   "cell_type": "markdown",
   "metadata": {
    "application/vnd.databricks.v1+cell": {
     "cellMetadata": {
      "byteLimit": 2048000,
      "rowLimit": 10000
     },
     "inputWidgets": {},
     "nuid": "786e7d58-2470-4d04-9986-258aad3fb3f5",
     "showTitle": false,
     "title": ""
    }
   },
   "source": [
    "## Data Exploration"
   ]
  },
  {
   "cell_type": "markdown",
   "metadata": {
    "application/vnd.databricks.v1+cell": {
     "cellMetadata": {
      "byteLimit": 2048000,
      "rowLimit": 10000
     },
     "inputWidgets": {},
     "nuid": "b1ce67d0-93c5-4ac3-85c2-08820d3726c8",
     "showTitle": false,
     "title": ""
    }
   },
   "source": [
    "Let's render a particular patch on the map:"
   ]
  },
  {
   "cell_type": "code",
   "execution_count": 0,
   "metadata": {
    "application/vnd.databricks.v1+cell": {
     "cellMetadata": {
      "byteLimit": 2048000,
      "rowLimit": 10000
     },
     "inputWidgets": {},
     "nuid": "3ac8a704-5bde-4f2c-8767-807a4cc28fae",
     "showTitle": false,
     "title": ""
    }
   },
   "outputs": [],
   "source": [
    "my_patch = (300, 1000, 500, 1200)\n",
    "fig, ax = nusc_map.render_map_patch(my_patch, nusc_map.non_geometric_layers, figsize=(10, 10), bitmap=bitmap)"
   ]
  },
  {
   "cell_type": "markdown",
   "metadata": {
    "application/vnd.databricks.v1+cell": {
     "cellMetadata": {
      "byteLimit": 2048000,
      "rowLimit": 10000
     },
     "inputWidgets": {},
     "nuid": "9692c681-500e-4e02-91b0-510af41a316b",
     "showTitle": false,
     "title": ""
    }
   },
   "source": [
    "A lot of layers can be seen in this patch. Lets retrieve all map records that are in this patch.\n",
    "\n",
    "- The option `within` will return all non geometric records that ***are within*** the map patch\n",
    "- The option `intersect` will return all non geometric records that ***intersect*** the map patch\n"
   ]
  },
  {
   "cell_type": "code",
   "execution_count": 0,
   "metadata": {
    "application/vnd.databricks.v1+cell": {
     "cellMetadata": {
      "byteLimit": 2048000,
      "rowLimit": 10000
     },
     "inputWidgets": {},
     "nuid": "d8887e65-98d5-4e3f-9188-a9a75da93b56",
     "showTitle": false,
     "title": ""
    }
   },
   "outputs": [],
   "source": [
    "records_within_patch = nusc_map.get_records_in_patch(my_patch, nusc_map.non_geometric_layers, mode='within')\n",
    "records_intersect_patch = nusc_map.get_records_in_patch(my_patch, nusc_map.non_geometric_layers, mode='intersect')"
   ]
  },
  {
   "cell_type": "markdown",
   "metadata": {
    "application/vnd.databricks.v1+cell": {
     "cellMetadata": {
      "byteLimit": 2048000,
      "rowLimit": 10000
     },
     "inputWidgets": {},
     "nuid": "6084fc0c-614a-44f6-aee3-fb0734b14ac5",
     "showTitle": false,
     "title": ""
    }
   },
   "source": [
    "Since there are a lot of records, we focus only on the layer `road_segment`:"
   ]
  },
  {
   "cell_type": "code",
   "execution_count": 0,
   "metadata": {
    "application/vnd.databricks.v1+cell": {
     "cellMetadata": {
      "byteLimit": 2048000,
      "rowLimit": 10000
     },
     "inputWidgets": {},
     "nuid": "f3815dae-5d11-4c2d-ba95-27d701034a58",
     "showTitle": false,
     "title": ""
    }
   },
   "outputs": [],
   "source": [
    "layer = 'road_segment'\n",
    "print('Found %d records of %s (within).' % (len(records_within_patch[layer]), layer))\n",
    "print('Found %d records of %s (intersect).' % (len(records_intersect_patch[layer]), layer))"
   ]
  },
  {
   "cell_type": "markdown",
   "metadata": {
    "application/vnd.databricks.v1+cell": {
     "cellMetadata": {
      "byteLimit": 2048000,
      "rowLimit": 10000
     },
     "inputWidgets": {},
     "nuid": "574dbb35-82c0-42a6-8a2e-f700a6a1ee27",
     "showTitle": false,
     "title": ""
    }
   },
   "source": [
    "We see that using the option `intersect` typically returns more records than `within`."
   ]
  },
  {
   "cell_type": "markdown",
   "metadata": {
    "application/vnd.databricks.v1+cell": {
     "cellMetadata": {
      "byteLimit": 2048000,
      "rowLimit": 10000
     },
     "inputWidgets": {},
     "nuid": "8e0bbd50-c46f-4609-8c9e-29f28086b05e",
     "showTitle": false,
     "title": ""
    }
   },
   "source": [
    "Looking at the above plot. Point `(390, 1100)` seems to be on a stop line. Lets verify that."
   ]
  },
  {
   "cell_type": "code",
   "execution_count": 0,
   "metadata": {
    "application/vnd.databricks.v1+cell": {
     "cellMetadata": {
      "byteLimit": 2048000,
      "rowLimit": 10000
     },
     "inputWidgets": {},
     "nuid": "9f33ff29-54dc-4bc9-ac41-098baff5dddb",
     "showTitle": false,
     "title": ""
    }
   },
   "outputs": [],
   "source": [
    "my_point = (390, 1100)\n",
    "layers = nusc_map.layers_on_point(my_point[0], my_point[1])\n",
    "assert len(layers['stop_line']) > 0, 'Error: No stop line found!'"
   ]
  },
  {
   "cell_type": "markdown",
   "metadata": {
    "application/vnd.databricks.v1+cell": {
     "cellMetadata": {
      "byteLimit": 2048000,
      "rowLimit": 10000
     },
     "inputWidgets": {},
     "nuid": "5080b4a5-59c3-40a3-a432-dc069b8f7a28",
     "showTitle": false,
     "title": ""
    }
   },
   "source": [
    "Indeed, we see a `stop_line` record.\n",
    "\n",
    "To directly check for `stop_line` records, we run:"
   ]
  },
  {
   "cell_type": "code",
   "execution_count": 0,
   "metadata": {
    "application/vnd.databricks.v1+cell": {
     "cellMetadata": {
      "byteLimit": 2048000,
      "rowLimit": 10000
     },
     "inputWidgets": {},
     "nuid": "62322d48-e73d-46f2-8e4c-0065a69d3414",
     "showTitle": false,
     "title": ""
    }
   },
   "outputs": [],
   "source": [
    "nusc_map.record_on_point(my_point[0], my_point[1], 'stop_line')"
   ]
  },
  {
   "cell_type": "markdown",
   "metadata": {
    "application/vnd.databricks.v1+cell": {
     "cellMetadata": {
      "byteLimit": 2048000,
      "rowLimit": 10000
     },
     "inputWidgets": {},
     "nuid": "0e13c580-7b2e-4887-8037-cc7c5484dcb6",
     "showTitle": false,
     "title": ""
    }
   },
   "source": [
    "Let's look at the bounds/extremities of that record"
   ]
  },
  {
   "cell_type": "code",
   "execution_count": 0,
   "metadata": {
    "application/vnd.databricks.v1+cell": {
     "cellMetadata": {
      "byteLimit": 2048000,
      "rowLimit": 10000
     },
     "inputWidgets": {},
     "nuid": "fdfe997d-f74d-4fa9-990e-7bfec6dc4597",
     "showTitle": false,
     "title": ""
    }
   },
   "outputs": [],
   "source": [
    "nusc_map.get_bounds('stop_line', 'ac0a935f-99af-4dd4-95e3-71c92a5e58b1')"
   ]
  },
  {
   "cell_type": "markdown",
   "metadata": {
    "application/vnd.databricks.v1+cell": {
     "cellMetadata": {
      "byteLimit": 2048000,
      "rowLimit": 10000
     },
     "inputWidgets": {},
     "nuid": "7900588f-f218-42e5-9c5d-8551f4864b15",
     "showTitle": false,
     "title": ""
    }
   },
   "source": [
    "## Layers"
   ]
  },
  {
   "cell_type": "markdown",
   "metadata": {
    "application/vnd.databricks.v1+cell": {
     "cellMetadata": {
      "byteLimit": 2048000,
      "rowLimit": 10000
     },
     "inputWidgets": {},
     "nuid": "5dc1bf65-1965-4afb-b07b-42a6c60243e4",
     "showTitle": false,
     "title": ""
    }
   },
   "source": [
    "Let us look more closely at the different map layers:"
   ]
  },
  {
   "cell_type": "code",
   "execution_count": 0,
   "metadata": {
    "application/vnd.databricks.v1+cell": {
     "cellMetadata": {
      "byteLimit": 2048000,
      "rowLimit": 10000
     },
     "inputWidgets": {},
     "nuid": "17d05f8a-7368-4a1b-92a1-8ddd9b9ceec3",
     "showTitle": false,
     "title": ""
    }
   },
   "outputs": [],
   "source": [
    "nusc_map.layer_names"
   ]
  },
  {
   "cell_type": "markdown",
   "metadata": {
    "application/vnd.databricks.v1+cell": {
     "cellMetadata": {
      "byteLimit": 2048000,
      "rowLimit": 10000
     },
     "inputWidgets": {},
     "nuid": "fb0533b9-87a8-481c-820d-ff6733da7555",
     "showTitle": false,
     "title": ""
    }
   },
   "source": [
    "Our map database consists of multiple **layers**. Where each layer is made up of **records**. Each record will have a token identifier.\n",
    "\n",
    "We see how our map layers are divided into two types of layers. One set of layer belong to the `geometric_layers` group, another set of layers belongs to the `non_geometric_layers` group.  \n",
    "1. `geometric_layers` define geometric entities in the map:\n",
    "    - Nodes (2d points) are the basis for all geometric layers.\n",
    "    - Lines consist of two or more nodes. Formally, one `Line` record can consist of more than one line segment.\n",
    "    - Polygons consist of three or more nodes. A polygon can have holes, thus distorting its formal definition. Holes are defined as a sequence of nodes that forms the perimeter of the polygonal hole.\n",
    "    \n",
    "    \n",
    "2. `non_geometric_layers` represent physical entities in the map. They can have more than one geometric representation (such as `drivable_areas`), but must be strictly of one type (e.g. `road_segment`, `lane_divider`)."
   ]
  },
  {
   "cell_type": "markdown",
   "metadata": {
    "application/vnd.databricks.v1+cell": {
     "cellMetadata": {
      "byteLimit": 2048000,
      "rowLimit": 10000
     },
     "inputWidgets": {},
     "nuid": "9010a560-4d35-4489-a9f3-35909b377a86",
     "showTitle": false,
     "title": ""
    }
   },
   "source": [
    "### 1. Geometric layers"
   ]
  },
  {
   "cell_type": "code",
   "execution_count": 0,
   "metadata": {
    "application/vnd.databricks.v1+cell": {
     "cellMetadata": {
      "byteLimit": 2048000,
      "rowLimit": 10000
     },
     "inputWidgets": {},
     "nuid": "7084fdf5-af86-4a5b-b015-5c80f027ca11",
     "showTitle": false,
     "title": ""
    }
   },
   "outputs": [],
   "source": [
    "nusc_map.geometric_layers"
   ]
  },
  {
   "cell_type": "markdown",
   "metadata": {
    "application/vnd.databricks.v1+cell": {
     "cellMetadata": {
      "byteLimit": 2048000,
      "rowLimit": 10000
     },
     "inputWidgets": {},
     "nuid": "24e9b4b5-135e-44c1-9b7d-e8feb4c3c4e1",
     "showTitle": false,
     "title": ""
    }
   },
   "source": [
    "#### a. Node\n",
    "The most primitive geometric record in our map database. This is the only layer that explicitly contains spatial coordinates."
   ]
  },
  {
   "cell_type": "code",
   "execution_count": 0,
   "metadata": {
    "application/vnd.databricks.v1+cell": {
     "cellMetadata": {
      "byteLimit": 2048000,
      "rowLimit": 10000
     },
     "inputWidgets": {},
     "nuid": "ca0106c6-f0a1-4b47-b7e2-642f5f121f02",
     "showTitle": false,
     "title": ""
    }
   },
   "outputs": [],
   "source": [
    "sample_node = nusc_map.node[0]\n",
    "sample_node"
   ]
  },
  {
   "cell_type": "markdown",
   "metadata": {
    "application/vnd.databricks.v1+cell": {
     "cellMetadata": {
      "byteLimit": 2048000,
      "rowLimit": 10000
     },
     "inputWidgets": {},
     "nuid": "c640d5dc-3e51-4689-b4ef-afdd9db4b811",
     "showTitle": false,
     "title": ""
    }
   },
   "source": [
    "#### b. Line\n",
    "\n",
    "Defines a line sequence of one or more lines and therefore consists of two or more nodes."
   ]
  },
  {
   "cell_type": "code",
   "execution_count": 0,
   "metadata": {
    "application/vnd.databricks.v1+cell": {
     "cellMetadata": {
      "byteLimit": 2048000,
      "rowLimit": 10000
     },
     "inputWidgets": {},
     "nuid": "b1defa63-63ac-47f5-80cb-f316c0a2ccd3",
     "showTitle": false,
     "title": ""
    }
   },
   "outputs": [],
   "source": [
    "sample_line = nusc_map.line[2]\n",
    "sample_line"
   ]
  },
  {
   "cell_type": "markdown",
   "metadata": {
    "application/vnd.databricks.v1+cell": {
     "cellMetadata": {
      "byteLimit": 2048000,
      "rowLimit": 10000
     },
     "inputWidgets": {},
     "nuid": "74c08277-ae61-4849-8328-e7fbd09d9aa5",
     "showTitle": false,
     "title": ""
    }
   },
   "source": [
    "#### c. Polygon \n",
    "Defines a polygon which may contain holes.\n",
    "\n",
    "Every polygon record comprises of a list of exterior nodes, and zero or more list(s) of nodes that constitute (zero or more) holes.\n",
    "\n",
    "Let's look at one polygon record:"
   ]
  },
  {
   "cell_type": "code",
   "execution_count": 0,
   "metadata": {
    "application/vnd.databricks.v1+cell": {
     "cellMetadata": {
      "byteLimit": 2048000,
      "rowLimit": 10000
     },
     "inputWidgets": {},
     "nuid": "664a1b97-9bec-470e-bcbc-c7d98406dc05",
     "showTitle": false,
     "title": ""
    }
   },
   "outputs": [],
   "source": [
    "sample_polygon = nusc_map.polygon[3]\n",
    "sample_polygon.keys()"
   ]
  },
  {
   "cell_type": "code",
   "execution_count": 0,
   "metadata": {
    "application/vnd.databricks.v1+cell": {
     "cellMetadata": {
      "byteLimit": 2048000,
      "rowLimit": 10000
     },
     "inputWidgets": {},
     "nuid": "12fe013a-ab43-477d-8b96-a99ef83e5ab7",
     "showTitle": false,
     "title": ""
    }
   },
   "outputs": [],
   "source": [
    "sample_polygon['exterior_node_tokens'][:10]"
   ]
  },
  {
   "cell_type": "code",
   "execution_count": 0,
   "metadata": {
    "application/vnd.databricks.v1+cell": {
     "cellMetadata": {
      "byteLimit": 2048000,
      "rowLimit": 10000
     },
     "inputWidgets": {},
     "nuid": "ebff465c-d8b0-4734-9e58-ef2ab32aa091",
     "showTitle": false,
     "title": ""
    }
   },
   "outputs": [],
   "source": [
    "sample_holes = sample_polygon['holes'][0]\n",
    "sample_holes"
   ]
  },
  {
   "cell_type": "markdown",
   "metadata": {
    "application/vnd.databricks.v1+cell": {
     "cellMetadata": {
      "byteLimit": 2048000,
      "rowLimit": 10000
     },
     "inputWidgets": {},
     "nuid": "806afa1a-8064-4c41-bcf0-9d43b8b8d3f1",
     "showTitle": false,
     "title": ""
    }
   },
   "source": [
    "### 2. Non geometric layers\n",
    "\n",
    "Every non-geometric layer is associated with at least one geometric object."
   ]
  },
  {
   "cell_type": "code",
   "execution_count": 0,
   "metadata": {
    "application/vnd.databricks.v1+cell": {
     "cellMetadata": {
      "byteLimit": 2048000,
      "rowLimit": 10000
     },
     "inputWidgets": {},
     "nuid": "1d1fce3e-f68f-4416-951e-46a2ca079b42",
     "showTitle": false,
     "title": ""
    }
   },
   "outputs": [],
   "source": [
    "nusc_map.non_geometric_layers"
   ]
  },
  {
   "cell_type": "markdown",
   "metadata": {
    "application/vnd.databricks.v1+cell": {
     "cellMetadata": {
      "byteLimit": 2048000,
      "rowLimit": 10000
     },
     "inputWidgets": {},
     "nuid": "6cdb30f6-04fb-4737-8b62-42bdae66d827",
     "showTitle": false,
     "title": ""
    }
   },
   "source": [
    "#### a. Drivable Area\n",
    "Drivable area is defined as the area where the car can drive, without consideration for driving directions or legal restrictions. This is the only layer in which the record can be represented by more than one geometric entity.\n",
    "*Note: On some machines this polygon renders incorrectly as a filled black rectangle.*"
   ]
  },
  {
   "cell_type": "code",
   "execution_count": 0,
   "metadata": {
    "application/vnd.databricks.v1+cell": {
     "cellMetadata": {
      "byteLimit": 2048000,
      "rowLimit": 10000
     },
     "inputWidgets": {},
     "nuid": "94f0250f-dee4-42c5-8f90-65b914ffae4e",
     "showTitle": false,
     "title": ""
    }
   },
   "outputs": [],
   "source": [
    "sample_drivable_area = nusc_map.drivable_area[0]\n",
    "sample_drivable_area"
   ]
  },
  {
   "cell_type": "code",
   "execution_count": 0,
   "metadata": {
    "application/vnd.databricks.v1+cell": {
     "cellMetadata": {
      "byteLimit": 2048000,
      "rowLimit": 10000
     },
     "inputWidgets": {},
     "nuid": "338f80a3-ac00-4401-b8c5-ef90eedcea0a",
     "showTitle": false,
     "title": ""
    }
   },
   "outputs": [],
   "source": [
    "fig, ax = nusc_map.render_record('drivable_area', sample_drivable_area['token'], other_layers=[])"
   ]
  },
  {
   "cell_type": "markdown",
   "metadata": {
    "application/vnd.databricks.v1+cell": {
     "cellMetadata": {
      "byteLimit": 2048000,
      "rowLimit": 10000
     },
     "inputWidgets": {},
     "nuid": "679234ec-6f99-4dcf-a681-de814a7efc65",
     "showTitle": false,
     "title": ""
    }
   },
   "source": [
    "#### b. Road Segment\n",
    "\n",
    "A segment of road on a drivable area. It has an `is_intersection` flag which denotes whether a particular road segment is an intersection.\n",
    "\n",
    "It may or may not have an association with a `drivable area` record from its `drivable_area_token` field."
   ]
  },
  {
   "cell_type": "code",
   "execution_count": 0,
   "metadata": {
    "application/vnd.databricks.v1+cell": {
     "cellMetadata": {
      "byteLimit": 2048000,
      "rowLimit": 10000
     },
     "inputWidgets": {},
     "nuid": "187ecbad-41e9-486b-a7bc-ec1ec098312c",
     "showTitle": false,
     "title": ""
    },
    "scrolled": true
   },
   "outputs": [],
   "source": [
    "sample_road_segment = nusc_map.road_segment[600]\n",
    "sample_road_segment"
   ]
  },
  {
   "cell_type": "markdown",
   "metadata": {
    "application/vnd.databricks.v1+cell": {
     "cellMetadata": {
      "byteLimit": 2048000,
      "rowLimit": 10000
     },
     "inputWidgets": {},
     "nuid": "4167ab43-2a92-4f7f-bb67-f52066df1e46",
     "showTitle": false,
     "title": ""
    }
   },
   "source": [
    "As observed, for all non geometric objects except `drivable_area`, we provide a shortcut to its `nodes`."
   ]
  },
  {
   "cell_type": "markdown",
   "metadata": {
    "application/vnd.databricks.v1+cell": {
     "cellMetadata": {
      "byteLimit": 2048000,
      "rowLimit": 10000
     },
     "inputWidgets": {},
     "nuid": "d08fae5a-317d-42d5-b174-a8cab7bafb45",
     "showTitle": false,
     "title": ""
    }
   },
   "source": [
    "Let's take a look at a `road_segment` record with `is_intersection == True`"
   ]
  },
  {
   "cell_type": "code",
   "execution_count": 0,
   "metadata": {
    "application/vnd.databricks.v1+cell": {
     "cellMetadata": {
      "byteLimit": 2048000,
      "rowLimit": 10000
     },
     "inputWidgets": {},
     "nuid": "d6a659b4-a1b7-4cbd-9195-e0806140bb7c",
     "showTitle": false,
     "title": ""
    }
   },
   "outputs": [],
   "source": [
    "sample_intersection_road_segment = nusc_map.road_segment[3]\n",
    "sample_intersection_road_segment"
   ]
  },
  {
   "cell_type": "markdown",
   "metadata": {
    "application/vnd.databricks.v1+cell": {
     "cellMetadata": {
      "byteLimit": 2048000,
      "rowLimit": 10000
     },
     "inputWidgets": {},
     "nuid": "bf461f27-f78b-4917-8580-211855501ac2",
     "showTitle": false,
     "title": ""
    }
   },
   "source": [
    "If we render this road segment we can see that it is indeed an intersection:"
   ]
  },
  {
   "cell_type": "code",
   "execution_count": 0,
   "metadata": {
    "application/vnd.databricks.v1+cell": {
     "cellMetadata": {
      "byteLimit": 2048000,
      "rowLimit": 10000
     },
     "inputWidgets": {},
     "nuid": "35700ec0-0ec7-48e6-9beb-15809b64abfa",
     "showTitle": false,
     "title": ""
    }
   },
   "outputs": [],
   "source": [
    "fig, ax = nusc_map.render_record('road_segment', sample_intersection_road_segment['token'], other_layers=[])"
   ]
  },
  {
   "cell_type": "markdown",
   "metadata": {
    "application/vnd.databricks.v1+cell": {
     "cellMetadata": {
      "byteLimit": 2048000,
      "rowLimit": 10000
     },
     "inputWidgets": {},
     "nuid": "da0ed364-ebf6-460d-a1ec-24206bd3f719",
     "showTitle": false,
     "title": ""
    }
   },
   "source": [
    "#### c. Road Block\n",
    "Road blocks are blocks of a road that have the same traffic direction. Multiple road blocks are grouped in a road segment.\n",
    "\n",
    "Within a road block, the number of lanes is consistent."
   ]
  },
  {
   "cell_type": "code",
   "execution_count": 0,
   "metadata": {
    "application/vnd.databricks.v1+cell": {
     "cellMetadata": {
      "byteLimit": 2048000,
      "rowLimit": 10000
     },
     "inputWidgets": {},
     "nuid": "70650f70-34a4-47f6-84ff-c94c1487bd09",
     "showTitle": false,
     "title": ""
    }
   },
   "outputs": [],
   "source": [
    "sample_road_block = nusc_map.road_block[0]\n",
    "sample_road_block"
   ]
  },
  {
   "cell_type": "markdown",
   "metadata": {
    "application/vnd.databricks.v1+cell": {
     "cellMetadata": {
      "byteLimit": 2048000,
      "rowLimit": 10000
     },
     "inputWidgets": {},
     "nuid": "5dd8787c-abdb-4fb2-8162-b3c40d04b408",
     "showTitle": false,
     "title": ""
    }
   },
   "source": [
    "Every road block has a `from_edge_line_token` and `to_edge_line_token` that denotes its traffic direction."
   ]
  },
  {
   "cell_type": "code",
   "execution_count": 0,
   "metadata": {
    "application/vnd.databricks.v1+cell": {
     "cellMetadata": {
      "byteLimit": 2048000,
      "rowLimit": 10000
     },
     "inputWidgets": {},
     "nuid": "38887601-7d67-41f5-bf1c-a5b8e4397ff5",
     "showTitle": false,
     "title": ""
    }
   },
   "outputs": [],
   "source": [
    "fig, ax = nusc_map.render_record('road_block', sample_road_block['token'], other_layers=[])"
   ]
  },
  {
   "cell_type": "markdown",
   "metadata": {
    "application/vnd.databricks.v1+cell": {
     "cellMetadata": {
      "byteLimit": 2048000,
      "rowLimit": 10000
     },
     "inputWidgets": {},
     "nuid": "25e70142-cbda-4860-aa16-b9a8b3c8874e",
     "showTitle": false,
     "title": ""
    }
   },
   "source": [
    "#### d. Lanes"
   ]
  },
  {
   "cell_type": "markdown",
   "metadata": {
    "application/vnd.databricks.v1+cell": {
     "cellMetadata": {
      "byteLimit": 2048000,
      "rowLimit": 10000
     },
     "inputWidgets": {},
     "nuid": "2c4c43ae-0898-410b-9323-fe300c6e6a18",
     "showTitle": false,
     "title": ""
    }
   },
   "source": [
    "Lanes are parts of the road where vehicles drive in a single direction."
   ]
  },
  {
   "cell_type": "code",
   "execution_count": 0,
   "metadata": {
    "application/vnd.databricks.v1+cell": {
     "cellMetadata": {
      "byteLimit": 2048000,
      "rowLimit": 10000
     },
     "inputWidgets": {},
     "nuid": "a74ecb00-2e13-48cb-b6a9-ca16701f536a",
     "showTitle": false,
     "title": ""
    },
    "scrolled": true
   },
   "outputs": [],
   "source": [
    "sample_lane_record = nusc_map.lane[600]\n",
    "sample_lane_record"
   ]
  },
  {
   "cell_type": "markdown",
   "metadata": {
    "application/vnd.databricks.v1+cell": {
     "cellMetadata": {
      "byteLimit": 2048000,
      "rowLimit": 10000
     },
     "inputWidgets": {},
     "nuid": "55d6b841-87f9-4d83-9e29-2bada21d91d1",
     "showTitle": false,
     "title": ""
    }
   },
   "source": [
    "Aside from the token and the geometric representation, a lane has several fields:\n",
    "- `lane_type` denotes whether cars or bikes are allowed to navigate through that lane.\n",
    "- `from_edge_line_token` and `to_edge_line_token` denotes their traffic direction.\n",
    "- `left_lane_divider_segments` and `right_lane_divider_segment` denotes their lane dividers.\n",
    "- `left_lane_divider_segment_nodes` and `right_lane_divider_segment_nodes` denotes the nodes that makes up the lane dividers."
   ]
  },
  {
   "cell_type": "code",
   "execution_count": 0,
   "metadata": {
    "application/vnd.databricks.v1+cell": {
     "cellMetadata": {
      "byteLimit": 2048000,
      "rowLimit": 10000
     },
     "inputWidgets": {},
     "nuid": "e2531cba-99fc-48a8-94d5-03bf3f9efe11",
     "showTitle": false,
     "title": ""
    }
   },
   "outputs": [],
   "source": [
    "fig, ax = nusc_map.render_record('lane', sample_lane_record['token'], other_layers=[])"
   ]
  },
  {
   "cell_type": "markdown",
   "metadata": {
    "application/vnd.databricks.v1+cell": {
     "cellMetadata": {
      "byteLimit": 2048000,
      "rowLimit": 10000
     },
     "inputWidgets": {},
     "nuid": "8d9fb640-817c-471c-b7d6-b69cba16ad1c",
     "showTitle": false,
     "title": ""
    }
   },
   "source": [
    "#### e. Pedestrian Crossing\n",
    "Pedestrian crossings are regions where pedestrians can legally cross the road, typically highlighted by white markings. Each pedestrian crossing record has to be on a road segment. It has the `road_segment_token` field which denotes the `road_segment` record it is associated with."
   ]
  },
  {
   "cell_type": "code",
   "execution_count": 0,
   "metadata": {
    "application/vnd.databricks.v1+cell": {
     "cellMetadata": {
      "byteLimit": 2048000,
      "rowLimit": 10000
     },
     "inputWidgets": {},
     "nuid": "6be3c314-edc2-4698-aa17-8f890b465c3f",
     "showTitle": false,
     "title": ""
    }
   },
   "outputs": [],
   "source": [
    "sample_ped_crossing_record = nusc_map.ped_crossing[0]\n",
    "sample_ped_crossing_record"
   ]
  },
  {
   "cell_type": "code",
   "execution_count": 0,
   "metadata": {
    "application/vnd.databricks.v1+cell": {
     "cellMetadata": {
      "byteLimit": 2048000,
      "rowLimit": 10000
     },
     "inputWidgets": {},
     "nuid": "4056e164-5c85-44b6-bcde-a64052f5bf5f",
     "showTitle": false,
     "title": ""
    }
   },
   "outputs": [],
   "source": [
    "fig, ax = nusc_map.render_record('ped_crossing', sample_ped_crossing_record['token'])"
   ]
  },
  {
   "cell_type": "markdown",
   "metadata": {
    "application/vnd.databricks.v1+cell": {
     "cellMetadata": {
      "byteLimit": 2048000,
      "rowLimit": 10000
     },
     "inputWidgets": {},
     "nuid": "889abdd3-50da-4a2a-a831-e74d494b0c70",
     "showTitle": false,
     "title": ""
    }
   },
   "source": [
    "#### f. Walkway\n",
    "A walkway or sidewalk is the typically elevated area next to a road where pedestrians are protected from vehicles on the road."
   ]
  },
  {
   "cell_type": "code",
   "execution_count": 0,
   "metadata": {
    "application/vnd.databricks.v1+cell": {
     "cellMetadata": {
      "byteLimit": 2048000,
      "rowLimit": 10000
     },
     "inputWidgets": {},
     "nuid": "ee5a81a9-44c4-4df9-8060-02038fd24260",
     "showTitle": false,
     "title": ""
    }
   },
   "outputs": [],
   "source": [
    "sample_walkway_record = nusc_map.walkway[0]\n",
    "sample_walkway_record"
   ]
  },
  {
   "cell_type": "code",
   "execution_count": 0,
   "metadata": {
    "application/vnd.databricks.v1+cell": {
     "cellMetadata": {
      "byteLimit": 2048000,
      "rowLimit": 10000
     },
     "inputWidgets": {},
     "nuid": "67e640bd-10e1-4972-b444-ea93bdce15aa",
     "showTitle": false,
     "title": ""
    }
   },
   "outputs": [],
   "source": [
    "fig, ax = nusc_map.render_record('walkway', sample_walkway_record['token'])"
   ]
  },
  {
   "cell_type": "markdown",
   "metadata": {
    "application/vnd.databricks.v1+cell": {
     "cellMetadata": {
      "byteLimit": 2048000,
      "rowLimit": 10000
     },
     "inputWidgets": {},
     "nuid": "ed2633fa-5405-4be4-866f-80e79ab83621",
     "showTitle": false,
     "title": ""
    }
   },
   "source": [
    "#### g. Stop Line\n",
    "The physical world's stop line, even though the name implies that it should possess a `line` geometric representation, in reality its physical representation is an **area where the ego vehicle must stop.**"
   ]
  },
  {
   "cell_type": "code",
   "execution_count": 0,
   "metadata": {
    "application/vnd.databricks.v1+cell": {
     "cellMetadata": {
      "byteLimit": 2048000,
      "rowLimit": 10000
     },
     "inputWidgets": {},
     "nuid": "3d537ffc-5aa8-422c-835a-3fc1f5c4811e",
     "showTitle": false,
     "title": ""
    }
   },
   "outputs": [],
   "source": [
    "sample_stop_line_record = nusc_map.stop_line[1]\n",
    "sample_stop_line_record"
   ]
  },
  {
   "cell_type": "markdown",
   "metadata": {
    "application/vnd.databricks.v1+cell": {
     "cellMetadata": {
      "byteLimit": 2048000,
      "rowLimit": 10000
     },
     "inputWidgets": {},
     "nuid": "667b9173-0795-432c-99b0-1ad85137d969",
     "showTitle": false,
     "title": ""
    }
   },
   "source": [
    "It has several attributes:\n",
    "- `stop_line_type`, the type of the stop line, this represents the reasons why the ego vehicle would stop         \n",
    "- `ped_crossing_tokens` denotes the association information if the `stop_line_type` is `PED_CROSSING`.\n",
    "- `traffic_light_tokens` denotes the association information if the `stop_line_type` is `TRAFFIC_LIGHT`.\n",
    "- `road_block_token` denotes the association information to a `road_block`, can be empty by default. \n",
    "- `cues` field contains the reason on why this this record is a `stop_line`. An area can be a stop line due to multiple reasons:\n",
    "    - Cues for `stop_line_type` of \"PED_CROSSING\" or \"TURN_STOP\" are `ped_crossing` records.\n",
    "    - Cues for `stop_line_type` of TRAFFIC_LIGHT\" are `traffic_light` records.\n",
    "    - No cues for `stop_line_type` of \"STOP_SIGN\" or \"YIELD\"."
   ]
  },
  {
   "cell_type": "code",
   "execution_count": 0,
   "metadata": {
    "application/vnd.databricks.v1+cell": {
     "cellMetadata": {
      "byteLimit": 2048000,
      "rowLimit": 10000
     },
     "inputWidgets": {},
     "nuid": "e630c427-8b64-4025-a33b-8e6f7c2be29e",
     "showTitle": false,
     "title": ""
    }
   },
   "outputs": [],
   "source": [
    "fig, ax = nusc_map.render_record('stop_line', sample_stop_line_record['token'])"
   ]
  },
  {
   "cell_type": "markdown",
   "metadata": {
    "application/vnd.databricks.v1+cell": {
     "cellMetadata": {
      "byteLimit": 2048000,
      "rowLimit": 10000
     },
     "inputWidgets": {},
     "nuid": "f7c2844f-4269-4e30-88eb-a574a928350f",
     "showTitle": false,
     "title": ""
    }
   },
   "source": [
    "#### h. Carpark Area\n",
    "A car park or parking lot area."
   ]
  },
  {
   "cell_type": "code",
   "execution_count": 0,
   "metadata": {
    "application/vnd.databricks.v1+cell": {
     "cellMetadata": {
      "byteLimit": 2048000,
      "rowLimit": 10000
     },
     "inputWidgets": {},
     "nuid": "bb601388-b13e-41ef-8df5-62572907ab7f",
     "showTitle": false,
     "title": ""
    }
   },
   "outputs": [],
   "source": [
    "sample_carpark_area_record = nusc_map.carpark_area[1]\n",
    "sample_carpark_area_record"
   ]
  },
  {
   "cell_type": "markdown",
   "metadata": {
    "application/vnd.databricks.v1+cell": {
     "cellMetadata": {
      "byteLimit": 2048000,
      "rowLimit": 10000
     },
     "inputWidgets": {},
     "nuid": "519edae4-772c-46ab-b699-8f563f0ba39d",
     "showTitle": false,
     "title": ""
    }
   },
   "source": [
    "It has several attributes:\n",
    "- `orientation` denotes the direction of parked cars in radians.\n",
    "- `road_block_token` denotes the association information to a `road_block`."
   ]
  },
  {
   "cell_type": "code",
   "execution_count": 0,
   "metadata": {
    "application/vnd.databricks.v1+cell": {
     "cellMetadata": {
      "byteLimit": 2048000,
      "rowLimit": 10000
     },
     "inputWidgets": {},
     "nuid": "94e152ef-7ba6-4952-a048-c4f8c90744b6",
     "showTitle": false,
     "title": ""
    }
   },
   "outputs": [],
   "source": [
    "fig, ax = nusc_map.render_record('carpark_area', sample_carpark_area_record['token'])"
   ]
  },
  {
   "cell_type": "markdown",
   "metadata": {
    "application/vnd.databricks.v1+cell": {
     "cellMetadata": {
      "byteLimit": 2048000,
      "rowLimit": 10000
     },
     "inputWidgets": {},
     "nuid": "bae27423-4726-43c9-99f3-251249f28bca",
     "showTitle": false,
     "title": ""
    }
   },
   "source": [
    "#### i. Road Divider\n",
    "A divider that separates one road block from another."
   ]
  },
  {
   "cell_type": "code",
   "execution_count": 0,
   "metadata": {
    "application/vnd.databricks.v1+cell": {
     "cellMetadata": {
      "byteLimit": 2048000,
      "rowLimit": 10000
     },
     "inputWidgets": {},
     "nuid": "ef1f846d-379f-4f4e-b7f0-10361e0a630d",
     "showTitle": false,
     "title": ""
    }
   },
   "outputs": [],
   "source": [
    "sample_road_divider_record = nusc_map.road_divider[0]\n",
    "sample_road_divider_record"
   ]
  },
  {
   "cell_type": "markdown",
   "metadata": {
    "application/vnd.databricks.v1+cell": {
     "cellMetadata": {
      "byteLimit": 2048000,
      "rowLimit": 10000
     },
     "inputWidgets": {},
     "nuid": "cc63f303-d605-4c80-b32b-1c69afdd7a50",
     "showTitle": false,
     "title": ""
    }
   },
   "source": [
    "`road_segment_token` saves the association information to a `road_segment`."
   ]
  },
  {
   "cell_type": "code",
   "execution_count": 0,
   "metadata": {
    "application/vnd.databricks.v1+cell": {
     "cellMetadata": {
      "byteLimit": 2048000,
      "rowLimit": 10000
     },
     "inputWidgets": {},
     "nuid": "decf4ab1-5af7-4ef9-ba35-a7e968b1f976",
     "showTitle": false,
     "title": ""
    }
   },
   "outputs": [],
   "source": [
    "fig, ax = nusc_map.render_record('road_divider', sample_road_divider_record['token'])"
   ]
  },
  {
   "cell_type": "markdown",
   "metadata": {
    "application/vnd.databricks.v1+cell": {
     "cellMetadata": {
      "byteLimit": 2048000,
      "rowLimit": 10000
     },
     "inputWidgets": {},
     "nuid": "22dcbbc8-858c-4d36-833a-457c8a407ddc",
     "showTitle": false,
     "title": ""
    }
   },
   "source": [
    "#### j. Lane Divider\n",
    "A lane divider comes between lanes that point in the same traffic direction."
   ]
  },
  {
   "cell_type": "code",
   "execution_count": 0,
   "metadata": {
    "application/vnd.databricks.v1+cell": {
     "cellMetadata": {
      "byteLimit": 2048000,
      "rowLimit": 10000
     },
     "inputWidgets": {},
     "nuid": "4c1e3825-2944-46ed-be90-34224b9325de",
     "showTitle": false,
     "title": ""
    }
   },
   "outputs": [],
   "source": [
    "sample_lane_divider_record = nusc_map.lane_divider[0]\n",
    "sample_lane_divider_record"
   ]
  },
  {
   "cell_type": "markdown",
   "metadata": {
    "application/vnd.databricks.v1+cell": {
     "cellMetadata": {
      "byteLimit": 2048000,
      "rowLimit": 10000
     },
     "inputWidgets": {},
     "nuid": "18a2006a-f533-4131-a2a0-8bf1e872aecb",
     "showTitle": false,
     "title": ""
    }
   },
   "source": [
    "The `lane_divider_segments` field consist of different `node`s and their respective `segment_type`s which denotes their physical appearance."
   ]
  },
  {
   "cell_type": "code",
   "execution_count": 0,
   "metadata": {
    "application/vnd.databricks.v1+cell": {
     "cellMetadata": {
      "byteLimit": 2048000,
      "rowLimit": 10000
     },
     "inputWidgets": {},
     "nuid": "a8145a60-c579-48d6-80de-48edd17390af",
     "showTitle": false,
     "title": ""
    }
   },
   "outputs": [],
   "source": [
    "fig, ax = nusc_map.render_record('lane_divider', sample_lane_divider_record['token'])"
   ]
  },
  {
   "cell_type": "markdown",
   "metadata": {
    "application/vnd.databricks.v1+cell": {
     "cellMetadata": {
      "byteLimit": 2048000,
      "rowLimit": 10000
     },
     "inputWidgets": {},
     "nuid": "4d4d52f3-3eea-4ca3-bdb3-18ffd2ecf4e5",
     "showTitle": false,
     "title": ""
    }
   },
   "source": [
    "#### k. Traffic Light\n",
    "A physical world's traffic light."
   ]
  },
  {
   "cell_type": "code",
   "execution_count": 0,
   "metadata": {
    "application/vnd.databricks.v1+cell": {
     "cellMetadata": {
      "byteLimit": 2048000,
      "rowLimit": 10000
     },
     "inputWidgets": {},
     "nuid": "0d9afc9c-f9a7-4292-9c30-4476541b414c",
     "showTitle": false,
     "title": ""
    }
   },
   "outputs": [],
   "source": [
    "sample_traffic_light_record = nusc_map.traffic_light[0]\n",
    "sample_traffic_light_record"
   ]
  },
  {
   "cell_type": "markdown",
   "metadata": {
    "application/vnd.databricks.v1+cell": {
     "cellMetadata": {
      "byteLimit": 2048000,
      "rowLimit": 10000
     },
     "inputWidgets": {},
     "nuid": "2a9c6e8e-06d6-4d9f-8cfd-cd3f035be367",
     "showTitle": false,
     "title": ""
    }
   },
   "source": [
    "It has several attributes:\n",
    "1. `traffic_light_type` denotes whether the traffic light is oriented horizontally or vertically.\n",
    "2. `from_road_block_tokens` denotes from which road block the traffic light guides.\n",
    "3. `items` are the bulbs for that traffic light.\n",
    "4. `pose` denotes the pose of the traffic light."
   ]
  },
  {
   "cell_type": "markdown",
   "metadata": {
    "application/vnd.databricks.v1+cell": {
     "cellMetadata": {
      "byteLimit": 2048000,
      "rowLimit": 10000
     },
     "inputWidgets": {},
     "nuid": "a01d228a-062c-486c-a041-49de0d8bc95b",
     "showTitle": false,
     "title": ""
    }
   },
   "source": [
    "Let's examine the `items` field"
   ]
  },
  {
   "cell_type": "code",
   "execution_count": 0,
   "metadata": {
    "application/vnd.databricks.v1+cell": {
     "cellMetadata": {
      "byteLimit": 2048000,
      "rowLimit": 10000
     },
     "inputWidgets": {},
     "nuid": "e69b5be0-3868-43fb-bb2e-de8cc4461423",
     "showTitle": false,
     "title": ""
    }
   },
   "outputs": [],
   "source": [
    "sample_traffic_light_record['items']"
   ]
  },
  {
   "cell_type": "markdown",
   "metadata": {
    "application/vnd.databricks.v1+cell": {
     "cellMetadata": {
      "byteLimit": 2048000,
      "rowLimit": 10000
     },
     "inputWidgets": {},
     "nuid": "a31e5abe-e13d-42af-9d10-4886fd44c011",
     "showTitle": false,
     "title": ""
    }
   },
   "source": [
    "As mentioned, every entry in the `items` field is a traffic light bulb. It has the `color` information, the `shape` information, `rel_pos` which is the relative position, and the `to_road_block_tokens` that denotes to which road blocks the traffic light bulb is guiding."
   ]
  }
 ],
 "metadata": {
  "application/vnd.databricks.v1+notebook": {
   "dashboards": [],
   "environmentMetadata": {
    "base_environment": "",
    "client": "1"
   },
   "language": "python",
   "notebookMetadata": {
    "pythonIndentUnit": 2
   },
   "notebookName": "map_expansion_tutorial",
   "widgets": {}
  },
  "kernelspec": {
   "display_name": "Python 3",
   "language": "python",
   "name": "python3"
  },
  "language_info": {
   "codemirror_mode": {
    "name": "ipython",
    "version": 3
   },
   "file_extension": ".py",
   "mimetype": "text/x-python",
   "name": "python",
   "nbconvert_exporter": "python",
   "pygments_lexer": "ipython3",
   "version": "3.7.7"
  }
 },
 "nbformat": 4,
 "nbformat_minor": 0
}
