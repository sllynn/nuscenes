{
 "cells": [
  {
   "cell_type": "markdown",
   "metadata": {
    "application/vnd.databricks.v1+cell": {
     "cellMetadata": {
      "byteLimit": 2048000,
      "rowLimit": 10000
     },
     "inputWidgets": {},
     "nuid": "1fa77a1e-642b-42aa-a4b7-70e3a34a865b",
     "showTitle": false,
     "title": ""
    }
   },
   "source": [
    "# nuScenes devkit tutorial\n",
    "\n",
    "Welcome to the nuScenes tutorial. This demo assumes the database itself is available at `/data/sets/nuscenes`, and loads a mini version of the full dataset."
   ]
  },
  {
   "cell_type": "markdown",
   "metadata": {
    "application/vnd.databricks.v1+cell": {
     "cellMetadata": {
      "byteLimit": 2048000,
      "rowLimit": 10000
     },
     "inputWidgets": {},
     "nuid": "669f2ba1-f13a-4a34-bc2f-73f12c765038",
     "showTitle": false,
     "title": ""
    }
   },
   "source": [
    "## A Gentle Introduction to nuScenes\n",
    "\n",
    "In this part of the tutorial, let us go through a top-down introduction of our database. Our dataset comprises of elemental building blocks that are the following:\n",
    "\n",
    "1. `log` - Log information from which the data was extracted.\n",
    "2. `scene` - 20 second snippet of a car's journey.\n",
    "3. `sample` - An annotated snapshot of a scene at a particular timestamp.\n",
    "4. `sample_data` - Data collected from a particular sensor.\n",
    "5. `ego_pose` - Ego vehicle poses at a particular timestamp.\n",
    "6. `sensor` - A specific sensor type.\n",
    "7. `calibrated sensor` - Definition of a particular sensor as calibrated on a particular vehicle.\n",
    "8. `instance` - Enumeration of all object instance we observed.\n",
    "9. `category` - Taxonomy of object categories (e.g. vehicle, human). \n",
    "10. `attribute` - Property of an instance that can change while the category remains the same.\n",
    "11. `visibility` - Fraction of pixels visible in all the images collected from 6 different cameras.\n",
    "12. `sample_annotation` - An annotated instance of an object within our interest.\n",
    "13. `map` - Map data that is stored as binary semantic masks from a top-down view.\n",
    "\n",
    "The database schema is visualized below. For more information see the [nuScenes schema](https://github.com/nutonomy/nuscenes-devkit/blob/master/docs/schema_nuscenes.md) page.\n",
    "![](https://www.nuscenes.org/public/images/nuscenes-schema.svg)"
   ]
  },
  {
   "cell_type": "markdown",
   "metadata": {
    "application/vnd.databricks.v1+cell": {
     "cellMetadata": {
      "byteLimit": 2048000,
      "rowLimit": 10000
     },
     "inputWidgets": {},
     "nuid": "d8d7862a-88a4-4f94-9f25-600209735a85",
     "showTitle": false,
     "title": ""
    }
   },
   "source": [
    "## Google Colab (optional)\n",
    "\n",
    "<br>\n",
    "<a href=\"https://colab.research.google.com/github/nutonomy/nuscenes-devkit/blob/master/python-sdk/tutorials/nuscenes_tutorial.ipynb\">\n",
    "    <img src=\"https://colab.research.google.com/assets/colab-badge.svg\" alt=\"Open In Colab\" align=\"left\">\n",
    "</a>\n",
    "<br>\n",
    "\n",
    "If you are running this notebook in Google Colab, you can uncomment the cell below and run it; everything will be set up nicely for you. Otherwise, manually set up everything."
   ]
  },
  {
   "cell_type": "code",
   "execution_count": 0,
   "metadata": {
    "application/vnd.databricks.v1+cell": {
     "cellMetadata": {
      "byteLimit": 2048000,
      "rowLimit": 10000
     },
     "inputWidgets": {},
     "nuid": "ff1fec31-23e2-4a60-8608-6cc1032e4747",
     "showTitle": false,
     "title": ""
    }
   },
   "outputs": [],
   "source": [
    "# !mkdir -p /data/sets/nuscenes  # Make the directory to store the nuScenes dataset in.\n",
    "\n",
    "# !wget https://www.nuscenes.org/data/v1.0-mini.tgz  # Download the nuScenes mini split.\n",
    "\n",
    "# !tar -xf v1.0-mini.tgz -C /data/sets/nuscenes  # Uncompress the nuScenes mini split.\n",
    "\n",
    "# !pip install nuscenes-devkit &> /dev/null  # Install nuScenes."
   ]
  },
  {
   "cell_type": "code",
   "execution_count": 0,
   "metadata": {
    "application/vnd.databricks.v1+cell": {
     "cellMetadata": {
      "byteLimit": 2048000,
      "rowLimit": 10000
     },
     "inputWidgets": {},
     "nuid": "56e01818-4734-416e-b66d-b44deaf15517",
     "showTitle": false,
     "title": ""
    },
    "jupyter": {
     "outputs_hidden": true
    }
   },
   "outputs": [],
   "source": [
    "%pip install nuscenes-devkit"
   ]
  },
  {
   "cell_type": "markdown",
   "metadata": {
    "application/vnd.databricks.v1+cell": {
     "cellMetadata": {
      "byteLimit": 2048000,
      "rowLimit": 10000
     },
     "inputWidgets": {},
     "nuid": "8d72fb20-353e-49f9-856e-c12a2ed3af4d",
     "showTitle": false,
     "title": ""
    }
   },
   "source": [
    "## Initialization"
   ]
  },
  {
   "cell_type": "code",
   "execution_count": 0,
   "metadata": {
    "application/vnd.databricks.v1+cell": {
     "cellMetadata": {
      "byteLimit": 2048000,
      "rowLimit": 10000
     },
     "inputWidgets": {},
     "nuid": "88f60a12-ed32-4b34-80bc-ff00af4e2050",
     "showTitle": false,
     "title": ""
    }
   },
   "outputs": [],
   "source": [
    "%matplotlib inline\n",
    "from nuscenes.nuscenes import NuScenes\n",
    "\n",
    "nusc = NuScenes(version='v1.0-mini', dataroot='/Volumes/stuart/aptiv/nuscenes', verbose=True)"
   ]
  },
  {
   "cell_type": "markdown",
   "metadata": {
    "application/vnd.databricks.v1+cell": {
     "cellMetadata": {
      "byteLimit": 2048000,
      "rowLimit": 10000
     },
     "inputWidgets": {},
     "nuid": "2f18e688-4098-4825-8580-9e5b6100b711",
     "showTitle": false,
     "title": ""
    }
   },
   "source": [
    "## A look at the dataset"
   ]
  },
  {
   "cell_type": "markdown",
   "metadata": {
    "application/vnd.databricks.v1+cell": {
     "cellMetadata": {
      "byteLimit": 2048000,
      "rowLimit": 10000
     },
     "inputWidgets": {},
     "nuid": "a74a2511-4d99-4fa0-8653-af4a4282e717",
     "showTitle": false,
     "title": ""
    }
   },
   "source": [
    "### 1. `scene`"
   ]
  },
  {
   "cell_type": "markdown",
   "metadata": {
    "application/vnd.databricks.v1+cell": {
     "cellMetadata": {
      "byteLimit": 2048000,
      "rowLimit": 10000
     },
     "inputWidgets": {},
     "nuid": "bd31c007-fbee-409b-b54f-d5fd55494213",
     "showTitle": false,
     "title": ""
    }
   },
   "source": [
    "nuScenes is a large scale database that features annotated samples across ***1000 scenes*** of approximately 20 seconds each. Let's take a look at the scenes that we have in the loaded database."
   ]
  },
  {
   "cell_type": "code",
   "execution_count": 0,
   "metadata": {
    "application/vnd.databricks.v1+cell": {
     "cellMetadata": {
      "byteLimit": 2048000,
      "rowLimit": 10000
     },
     "inputWidgets": {},
     "nuid": "482e9790-8bb1-4028-bcc5-a6b21d2eb15c",
     "showTitle": false,
     "title": ""
    }
   },
   "outputs": [],
   "source": [
    "nusc.list_scenes()"
   ]
  },
  {
   "cell_type": "markdown",
   "metadata": {
    "application/vnd.databricks.v1+cell": {
     "cellMetadata": {
      "byteLimit": 2048000,
      "rowLimit": 10000
     },
     "inputWidgets": {},
     "nuid": "5845ced4-1a82-49b6-aef2-5adf21fde302",
     "showTitle": false,
     "title": ""
    }
   },
   "source": [
    "Let's look at a scene metadata"
   ]
  },
  {
   "cell_type": "code",
   "execution_count": 0,
   "metadata": {
    "application/vnd.databricks.v1+cell": {
     "cellMetadata": {
      "byteLimit": 2048000,
      "rowLimit": 10000
     },
     "inputWidgets": {},
     "nuid": "254b4749-54f3-4705-a136-fcd8f0e4f33d",
     "showTitle": false,
     "title": ""
    }
   },
   "outputs": [],
   "source": [
    "my_scene = nusc.scene[0]\n",
    "my_scene"
   ]
  },
  {
   "cell_type": "markdown",
   "metadata": {
    "application/vnd.databricks.v1+cell": {
     "cellMetadata": {
      "byteLimit": 2048000,
      "rowLimit": 10000
     },
     "inputWidgets": {},
     "nuid": "2b8a7612-9714-4f0c-95fe-97953f2a9402",
     "showTitle": false,
     "title": ""
    }
   },
   "source": [
    "### 2. `sample`"
   ]
  },
  {
   "cell_type": "markdown",
   "metadata": {
    "application/vnd.databricks.v1+cell": {
     "cellMetadata": {
      "byteLimit": 2048000,
      "rowLimit": 10000
     },
     "inputWidgets": {},
     "nuid": "7cc7507c-5f6d-42a0-ab55-845cfeed347d",
     "showTitle": false,
     "title": ""
    }
   },
   "source": [
    "In scenes, we annotate our data every half a second (2 Hz).\n",
    "\n",
    "We define `sample` as an ***annotated keyframe of a scene at a given timestamp***. A keyframe is a frame where the time-stamps of data from all the sensors should be very close to the time-stamp of the sample it points to.\n",
    "\n",
    "Now, let us look at the first annotated sample in this scene."
   ]
  },
  {
   "cell_type": "code",
   "execution_count": 0,
   "metadata": {
    "application/vnd.databricks.v1+cell": {
     "cellMetadata": {
      "byteLimit": 2048000,
      "rowLimit": 10000
     },
     "inputWidgets": {},
     "nuid": "512e842f-899c-47ee-b6c4-e8e28c9df39d",
     "showTitle": false,
     "title": ""
    },
    "scrolled": true
   },
   "outputs": [],
   "source": [
    "first_sample_token = my_scene['first_sample_token']\n",
    "\n",
    "# The rendering command below is commented out because it tends to crash in notebooks\n",
    "nusc.render_sample(first_sample_token)"
   ]
  },
  {
   "cell_type": "markdown",
   "metadata": {
    "application/vnd.databricks.v1+cell": {
     "cellMetadata": {
      "byteLimit": 2048000,
      "rowLimit": 10000
     },
     "inputWidgets": {},
     "nuid": "d8c0454c-7301-40b2-be91-905e5b541429",
     "showTitle": false,
     "title": ""
    }
   },
   "source": [
    "Let's examine its metadata"
   ]
  },
  {
   "cell_type": "code",
   "execution_count": 0,
   "metadata": {
    "application/vnd.databricks.v1+cell": {
     "cellMetadata": {
      "byteLimit": 2048000,
      "rowLimit": 10000
     },
     "inputWidgets": {},
     "nuid": "8e8355ab-23b9-4bb4-9c7d-91fa9c0cf55f",
     "showTitle": false,
     "title": ""
    },
    "scrolled": true
   },
   "outputs": [],
   "source": [
    "my_sample = nusc.get('sample', first_sample_token)\n",
    "my_sample"
   ]
  },
  {
   "cell_type": "markdown",
   "metadata": {
    "application/vnd.databricks.v1+cell": {
     "cellMetadata": {
      "byteLimit": 2048000,
      "rowLimit": 10000
     },
     "inputWidgets": {},
     "nuid": "dd2d6fae-97ff-408a-a9af-ec06b3fb6d8c",
     "showTitle": false,
     "title": ""
    }
   },
   "source": [
    "A useful method is  `list_sample()` which lists all related `sample_data` keyframes and `sample_annotation` associated with a `sample` which we will discuss in detail in the subsequent parts."
   ]
  },
  {
   "cell_type": "code",
   "execution_count": 0,
   "metadata": {
    "application/vnd.databricks.v1+cell": {
     "cellMetadata": {
      "byteLimit": 2048000,
      "rowLimit": 10000
     },
     "inputWidgets": {},
     "nuid": "4103f4e3-f7aa-42a8-a528-9b593cad8ae5",
     "showTitle": false,
     "title": ""
    },
    "scrolled": true
   },
   "outputs": [],
   "source": [
    "nusc.list_sample(my_sample['token'])"
   ]
  },
  {
   "cell_type": "markdown",
   "metadata": {
    "application/vnd.databricks.v1+cell": {
     "cellMetadata": {
      "byteLimit": 2048000,
      "rowLimit": 10000
     },
     "inputWidgets": {},
     "nuid": "86f09b6b-7d37-44e7-b7e0-69793e050a07",
     "showTitle": false,
     "title": ""
    }
   },
   "source": [
    "### 3. `sample_data`"
   ]
  },
  {
   "cell_type": "markdown",
   "metadata": {
    "application/vnd.databricks.v1+cell": {
     "cellMetadata": {
      "byteLimit": 2048000,
      "rowLimit": 10000
     },
     "inputWidgets": {},
     "nuid": "a534eb59-f88c-413c-8e0c-a4aa5b954ee7",
     "showTitle": false,
     "title": ""
    }
   },
   "source": [
    "The nuScenes dataset contains data that is collected from a full sensor suite. Hence, for each snapshot of a scene, we provide references to a family of data that is collected from these sensors. \n",
    "\n",
    "We provide a `data` key to access these:"
   ]
  },
  {
   "cell_type": "code",
   "execution_count": 0,
   "metadata": {
    "application/vnd.databricks.v1+cell": {
     "cellMetadata": {
      "byteLimit": 2048000,
      "rowLimit": 10000
     },
     "inputWidgets": {},
     "nuid": "12b1ef39-15c9-4bb3-a35f-b2ad5c615018",
     "showTitle": false,
     "title": ""
    }
   },
   "outputs": [],
   "source": [
    "my_sample['data']"
   ]
  },
  {
   "cell_type": "markdown",
   "metadata": {
    "application/vnd.databricks.v1+cell": {
     "cellMetadata": {
      "byteLimit": 2048000,
      "rowLimit": 10000
     },
     "inputWidgets": {},
     "nuid": "74c1dfdd-3b26-485c-be25-916bc1e069f5",
     "showTitle": false,
     "title": ""
    }
   },
   "source": [
    "Notice that the keys are referring to the different sensors that form our sensor suite. Let's take a look at the metadata of a `sample_data` taken from `CAM_FRONT`."
   ]
  },
  {
   "cell_type": "code",
   "execution_count": 0,
   "metadata": {
    "application/vnd.databricks.v1+cell": {
     "cellMetadata": {
      "byteLimit": 2048000,
      "rowLimit": 10000
     },
     "inputWidgets": {},
     "nuid": "292cae69-ae02-4a7a-b803-2366641c068f",
     "showTitle": false,
     "title": ""
    }
   },
   "outputs": [],
   "source": [
    "sensor = 'CAM_FRONT'\n",
    "cam_front_data = nusc.get('sample_data', my_sample['data'][sensor])\n",
    "cam_front_data"
   ]
  },
  {
   "cell_type": "markdown",
   "metadata": {
    "application/vnd.databricks.v1+cell": {
     "cellMetadata": {
      "byteLimit": 2048000,
      "rowLimit": 10000
     },
     "inputWidgets": {},
     "nuid": "2aa32086-7dd2-4ec1-bb60-0f83ef1c0be9",
     "showTitle": false,
     "title": ""
    }
   },
   "source": [
    "We can also render the `sample_data` at a particular sensor. "
   ]
  },
  {
   "cell_type": "code",
   "execution_count": 0,
   "metadata": {
    "application/vnd.databricks.v1+cell": {
     "cellMetadata": {
      "byteLimit": 2048000,
      "rowLimit": 10000
     },
     "inputWidgets": {},
     "nuid": "18e7ee83-c7e7-49ad-bc07-afa47c14d7d0",
     "showTitle": false,
     "title": ""
    }
   },
   "outputs": [],
   "source": [
    "nusc.render_sample_data(cam_front_data['token'])"
   ]
  },
  {
   "cell_type": "markdown",
   "metadata": {
    "application/vnd.databricks.v1+cell": {
     "cellMetadata": {
      "byteLimit": 2048000,
      "rowLimit": 10000
     },
     "inputWidgets": {},
     "nuid": "6c92d0d5-1f06-4af0-88f0-f4a3d6021b20",
     "showTitle": false,
     "title": ""
    }
   },
   "source": [
    "### 4. `sample_annotation`"
   ]
  },
  {
   "cell_type": "markdown",
   "metadata": {
    "application/vnd.databricks.v1+cell": {
     "cellMetadata": {
      "byteLimit": 2048000,
      "rowLimit": 10000
     },
     "inputWidgets": {},
     "nuid": "c9142f43-72a8-4b0b-990f-2bad368db4f4",
     "showTitle": false,
     "title": ""
    }
   },
   "source": [
    "`sample_annotation` refers to any ***bounding box defining the position of an object seen in a sample***. All location data is given with respect to the global coordinate system. Let's examine an example from our `sample` above."
   ]
  },
  {
   "cell_type": "code",
   "execution_count": 0,
   "metadata": {
    "application/vnd.databricks.v1+cell": {
     "cellMetadata": {
      "byteLimit": 2048000,
      "rowLimit": 10000
     },
     "inputWidgets": {},
     "nuid": "e07770a6-a1fb-4588-aa20-fff81353c925",
     "showTitle": false,
     "title": ""
    }
   },
   "outputs": [],
   "source": [
    "my_annotation_token = my_sample['anns'][18]\n",
    "my_annotation_metadata =  nusc.get('sample_annotation', my_annotation_token)\n",
    "my_annotation_metadata"
   ]
  },
  {
   "cell_type": "markdown",
   "metadata": {
    "application/vnd.databricks.v1+cell": {
     "cellMetadata": {
      "byteLimit": 2048000,
      "rowLimit": 10000
     },
     "inputWidgets": {},
     "nuid": "84966b83-1f46-407b-9dfc-e8baddddad26",
     "showTitle": false,
     "title": ""
    }
   },
   "source": [
    "We can also render an annotation to have a closer look."
   ]
  },
  {
   "cell_type": "code",
   "execution_count": 0,
   "metadata": {
    "application/vnd.databricks.v1+cell": {
     "cellMetadata": {
      "byteLimit": 2048000,
      "rowLimit": 10000
     },
     "inputWidgets": {},
     "nuid": "303b3b59-a2d5-4ef3-bfb0-1596cc07a3ed",
     "showTitle": false,
     "title": ""
    }
   },
   "outputs": [],
   "source": [
    "nusc.render_annotation(my_annotation_token)"
   ]
  },
  {
   "cell_type": "markdown",
   "metadata": {
    "application/vnd.databricks.v1+cell": {
     "cellMetadata": {
      "byteLimit": 2048000,
      "rowLimit": 10000
     },
     "inputWidgets": {},
     "nuid": "2a75099b-c622-4b1c-ba86-8901b8e8884f",
     "showTitle": false,
     "title": ""
    }
   },
   "source": [
    "### 5. `instance`"
   ]
  },
  {
   "cell_type": "markdown",
   "metadata": {
    "application/vnd.databricks.v1+cell": {
     "cellMetadata": {
      "byteLimit": 2048000,
      "rowLimit": 10000
     },
     "inputWidgets": {},
     "nuid": "1ede282a-112a-4bd9-bdf8-5bf8af33f6a4",
     "showTitle": false,
     "title": ""
    }
   },
   "source": [
    "Object instance are instances that need to be detected or tracked by an AV (e.g a particular vehicle, pedestrian). Let us examine an instance metadata"
   ]
  },
  {
   "cell_type": "code",
   "execution_count": 0,
   "metadata": {
    "application/vnd.databricks.v1+cell": {
     "cellMetadata": {
      "byteLimit": 2048000,
      "rowLimit": 10000
     },
     "inputWidgets": {},
     "nuid": "d060ba56-8cce-4a88-956e-55cfc10a736a",
     "showTitle": false,
     "title": ""
    }
   },
   "outputs": [],
   "source": [
    "my_instance = nusc.instance[599]\n",
    "my_instance"
   ]
  },
  {
   "cell_type": "markdown",
   "metadata": {
    "application/vnd.databricks.v1+cell": {
     "cellMetadata": {
      "byteLimit": 2048000,
      "rowLimit": 10000
     },
     "inputWidgets": {},
     "nuid": "fd6983c1-73e0-4df3-898f-e447f451a1a8",
     "showTitle": false,
     "title": ""
    }
   },
   "source": [
    "We generally track an instance across different frames in a particular scene. However, we do not track them across different scenes. In this example, we have 16 annotated samples for this instance across a particular scene."
   ]
  },
  {
   "cell_type": "code",
   "execution_count": 0,
   "metadata": {
    "application/vnd.databricks.v1+cell": {
     "cellMetadata": {
      "byteLimit": 2048000,
      "rowLimit": 10000
     },
     "inputWidgets": {},
     "nuid": "2a4ee04f-0ba5-4919-a73b-1b9093f2ad0a",
     "showTitle": false,
     "title": ""
    }
   },
   "outputs": [],
   "source": [
    "instance_token = my_instance['token']\n",
    "nusc.render_instance(instance_token)"
   ]
  },
  {
   "cell_type": "markdown",
   "metadata": {
    "application/vnd.databricks.v1+cell": {
     "cellMetadata": {
      "byteLimit": 2048000,
      "rowLimit": 10000
     },
     "inputWidgets": {},
     "nuid": "32512720-3ad6-44dd-aca0-45e69d100a5f",
     "showTitle": false,
     "title": ""
    }
   },
   "source": [
    "An instance record takes note of its first and last annotation token. Let's render them"
   ]
  },
  {
   "cell_type": "code",
   "execution_count": 0,
   "metadata": {
    "application/vnd.databricks.v1+cell": {
     "cellMetadata": {
      "byteLimit": 2048000,
      "rowLimit": 10000
     },
     "inputWidgets": {},
     "nuid": "70bb6930-e85a-4310-bc5e-79a832a3a99e",
     "showTitle": false,
     "title": ""
    }
   },
   "outputs": [],
   "source": [
    "print(\"First annotated sample of this instance:\")\n",
    "nusc.render_annotation(my_instance['first_annotation_token'])"
   ]
  },
  {
   "cell_type": "code",
   "execution_count": 0,
   "metadata": {
    "application/vnd.databricks.v1+cell": {
     "cellMetadata": {
      "byteLimit": 2048000,
      "rowLimit": 10000
     },
     "inputWidgets": {},
     "nuid": "f52791a3-da26-4172-92f5-6d44da63c5cc",
     "showTitle": false,
     "title": ""
    }
   },
   "outputs": [],
   "source": [
    "print(\"Last annotated sample of this instance\")\n",
    "nusc.render_annotation(my_instance['last_annotation_token'])"
   ]
  },
  {
   "cell_type": "markdown",
   "metadata": {
    "application/vnd.databricks.v1+cell": {
     "cellMetadata": {
      "byteLimit": 2048000,
      "rowLimit": 10000
     },
     "inputWidgets": {},
     "nuid": "3bce43a6-f0d3-4520-839e-69c895dbafd4",
     "showTitle": false,
     "title": ""
    }
   },
   "source": [
    "### 6. `category`"
   ]
  },
  {
   "cell_type": "markdown",
   "metadata": {
    "application/vnd.databricks.v1+cell": {
     "cellMetadata": {
      "byteLimit": 2048000,
      "rowLimit": 10000
     },
     "inputWidgets": {},
     "nuid": "1c266b82-54c3-4e1a-846f-17a704db1342",
     "showTitle": false,
     "title": ""
    }
   },
   "source": [
    "A `category` is the object assignment of an annotation.  Let's look at the category table we have in our database. The table contains the taxonomy of different object categories and also list the subcategories (delineated by a period). "
   ]
  },
  {
   "cell_type": "code",
   "execution_count": 0,
   "metadata": {
    "application/vnd.databricks.v1+cell": {
     "cellMetadata": {
      "byteLimit": 2048000,
      "rowLimit": 10000
     },
     "inputWidgets": {},
     "nuid": "d98d94cc-499e-4db8-aaf9-27790092b6f9",
     "showTitle": false,
     "title": ""
    }
   },
   "outputs": [],
   "source": [
    "nusc.list_categories()"
   ]
  },
  {
   "cell_type": "markdown",
   "metadata": {
    "application/vnd.databricks.v1+cell": {
     "cellMetadata": {
      "byteLimit": 2048000,
      "rowLimit": 10000
     },
     "inputWidgets": {},
     "nuid": "c1fbe5c3-b6c0-442e-921b-72e955a2f0c1",
     "showTitle": false,
     "title": ""
    }
   },
   "source": [
    "A category record contains the name and the description of that particular category."
   ]
  },
  {
   "cell_type": "code",
   "execution_count": 0,
   "metadata": {
    "application/vnd.databricks.v1+cell": {
     "cellMetadata": {
      "byteLimit": 2048000,
      "rowLimit": 10000
     },
     "inputWidgets": {},
     "nuid": "12969837-8a27-425d-8f07-2466a82bed56",
     "showTitle": false,
     "title": ""
    }
   },
   "outputs": [],
   "source": [
    "nusc.category[9]"
   ]
  },
  {
   "cell_type": "markdown",
   "metadata": {
    "application/vnd.databricks.v1+cell": {
     "cellMetadata": {
      "byteLimit": 2048000,
      "rowLimit": 10000
     },
     "inputWidgets": {},
     "nuid": "d994b511-b32f-4cfb-97a6-25d450d4ad0c",
     "showTitle": false,
     "title": ""
    }
   },
   "source": [
    "Refer to `instructions_nuscenes.md` for the definitions of the different categories."
   ]
  },
  {
   "cell_type": "markdown",
   "metadata": {
    "application/vnd.databricks.v1+cell": {
     "cellMetadata": {
      "byteLimit": 2048000,
      "rowLimit": 10000
     },
     "inputWidgets": {},
     "nuid": "008a92e9-7bff-4e3f-9c67-19f1a7f59f9d",
     "showTitle": false,
     "title": ""
    }
   },
   "source": [
    "### 7. `attribute`"
   ]
  },
  {
   "cell_type": "markdown",
   "metadata": {
    "application/vnd.databricks.v1+cell": {
     "cellMetadata": {
      "byteLimit": 2048000,
      "rowLimit": 10000
     },
     "inputWidgets": {},
     "nuid": "1595d197-d907-4818-b483-37a554e4d723",
     "showTitle": false,
     "title": ""
    }
   },
   "source": [
    "An `attribute` is a property of an instance that may change throughout different parts of a scene while the category remains the same. Here we list the provided attributes and the number of annotations associated with a particular attribute."
   ]
  },
  {
   "cell_type": "code",
   "execution_count": 0,
   "metadata": {
    "application/vnd.databricks.v1+cell": {
     "cellMetadata": {
      "byteLimit": 2048000,
      "rowLimit": 10000
     },
     "inputWidgets": {},
     "nuid": "9d043145-1542-459e-bac9-a34de20c8d5b",
     "showTitle": false,
     "title": ""
    }
   },
   "outputs": [],
   "source": [
    "nusc.list_attributes()"
   ]
  },
  {
   "cell_type": "markdown",
   "metadata": {
    "application/vnd.databricks.v1+cell": {
     "cellMetadata": {
      "byteLimit": 2048000,
      "rowLimit": 10000
     },
     "inputWidgets": {},
     "nuid": "c01c7d1b-6c86-4808-bd9f-f59d1ab3c97d",
     "showTitle": false,
     "title": ""
    }
   },
   "source": [
    "Let's take a look at an example how an attribute may change over one scene"
   ]
  },
  {
   "cell_type": "code",
   "execution_count": 0,
   "metadata": {
    "application/vnd.databricks.v1+cell": {
     "cellMetadata": {
      "byteLimit": 2048000,
      "rowLimit": 10000
     },
     "inputWidgets": {},
     "nuid": "184cc9af-8d64-4ac4-b7b4-4e40f28b4b86",
     "showTitle": false,
     "title": ""
    }
   },
   "outputs": [],
   "source": [
    "my_instance = nusc.instance[27]\n",
    "first_token = my_instance['first_annotation_token']\n",
    "last_token = my_instance['last_annotation_token']\n",
    "nbr_samples = my_instance['nbr_annotations']\n",
    "current_token = first_token\n",
    "\n",
    "i = 0\n",
    "found_change = False\n",
    "while current_token != last_token:\n",
    "    current_ann = nusc.get('sample_annotation', current_token)\n",
    "    current_attr = nusc.get('attribute', current_ann['attribute_tokens'][0])['name']\n",
    "    \n",
    "    if i == 0:\n",
    "        pass\n",
    "    elif current_attr != last_attr:\n",
    "        print(\"Changed from `{}` to `{}` at timestamp {} out of {} annotated timestamps\".format(last_attr, current_attr, i, nbr_samples))\n",
    "        found_change = True\n",
    "\n",
    "    next_token = current_ann['next']\n",
    "    current_token = next_token\n",
    "    last_attr = current_attr\n",
    "    i += 1"
   ]
  },
  {
   "cell_type": "markdown",
   "metadata": {
    "application/vnd.databricks.v1+cell": {
     "cellMetadata": {
      "byteLimit": 2048000,
      "rowLimit": 10000
     },
     "inputWidgets": {},
     "nuid": "24e9ff55-ad03-4a8b-b281-f5550daf23a0",
     "showTitle": false,
     "title": ""
    }
   },
   "source": [
    "### 8. `visibility`"
   ]
  },
  {
   "cell_type": "markdown",
   "metadata": {
    "application/vnd.databricks.v1+cell": {
     "cellMetadata": {
      "byteLimit": 2048000,
      "rowLimit": 10000
     },
     "inputWidgets": {},
     "nuid": "9c66d81b-0ca7-40b8-b2a4-e9310dcd61f1",
     "showTitle": false,
     "title": ""
    }
   },
   "source": [
    "`visibility` is defined as the fraction of pixels of a particular annotation that are visible over the 6 camera feeds, grouped into 4 bins."
   ]
  },
  {
   "cell_type": "code",
   "execution_count": 0,
   "metadata": {
    "application/vnd.databricks.v1+cell": {
     "cellMetadata": {
      "byteLimit": 2048000,
      "rowLimit": 10000
     },
     "inputWidgets": {},
     "nuid": "3bf934f9-e48c-456d-9648-c30f2f2fd60a",
     "showTitle": false,
     "title": ""
    }
   },
   "outputs": [],
   "source": [
    "nusc.visibility"
   ]
  },
  {
   "cell_type": "markdown",
   "metadata": {
    "application/vnd.databricks.v1+cell": {
     "cellMetadata": {
      "byteLimit": 2048000,
      "rowLimit": 10000
     },
     "inputWidgets": {},
     "nuid": "73c1bd1e-06fe-4741-9b6a-81b875958018",
     "showTitle": false,
     "title": ""
    }
   },
   "source": [
    "Let's look at an example `sample_annotation` with 80-100% visibility"
   ]
  },
  {
   "cell_type": "code",
   "execution_count": 0,
   "metadata": {
    "application/vnd.databricks.v1+cell": {
     "cellMetadata": {
      "byteLimit": 2048000,
      "rowLimit": 10000
     },
     "inputWidgets": {},
     "nuid": "173f6a48-3c3c-4f04-a038-b8357040775d",
     "showTitle": false,
     "title": ""
    }
   },
   "outputs": [],
   "source": [
    "anntoken = 'a7d0722bce164f88adf03ada491ea0ba'\n",
    "visibility_token = nusc.get('sample_annotation', anntoken)['visibility_token']\n",
    "\n",
    "print(\"Visibility: {}\".format(nusc.get('visibility', visibility_token)))\n",
    "nusc.render_annotation(anntoken)"
   ]
  },
  {
   "cell_type": "markdown",
   "metadata": {
    "application/vnd.databricks.v1+cell": {
     "cellMetadata": {
      "byteLimit": 2048000,
      "rowLimit": 10000
     },
     "inputWidgets": {},
     "nuid": "999bb30f-fc1c-4d26-8629-6913f8232c47",
     "showTitle": false,
     "title": ""
    }
   },
   "source": [
    "Let's look at an example `sample_annotation` with 0-40% visibility"
   ]
  },
  {
   "cell_type": "code",
   "execution_count": 0,
   "metadata": {
    "application/vnd.databricks.v1+cell": {
     "cellMetadata": {
      "byteLimit": 2048000,
      "rowLimit": 10000
     },
     "inputWidgets": {},
     "nuid": "e755c1a4-2334-4e8f-895c-e1a9875c7f7f",
     "showTitle": false,
     "title": ""
    }
   },
   "outputs": [],
   "source": [
    "anntoken = '9f450bf6b7454551bbbc9a4c6e74ef2e'\n",
    "visibility_token = nusc.get('sample_annotation', anntoken)['visibility_token']\n",
    "\n",
    "print(\"Visibility: {}\".format(nusc.get('visibility', visibility_token)))\n",
    "nusc.render_annotation(anntoken)"
   ]
  },
  {
   "cell_type": "markdown",
   "metadata": {
    "application/vnd.databricks.v1+cell": {
     "cellMetadata": {
      "byteLimit": 2048000,
      "rowLimit": 10000
     },
     "inputWidgets": {},
     "nuid": "09252e69-6bf0-44da-bfde-87e5d5d48177",
     "showTitle": false,
     "title": ""
    }
   },
   "source": [
    "### 9. `sensor`"
   ]
  },
  {
   "cell_type": "markdown",
   "metadata": {
    "application/vnd.databricks.v1+cell": {
     "cellMetadata": {
      "byteLimit": 2048000,
      "rowLimit": 10000
     },
     "inputWidgets": {},
     "nuid": "94465c84-98fa-407f-b9c1-9c40f1355088",
     "showTitle": false,
     "title": ""
    }
   },
   "source": [
    "The nuScenes dataset consists of data collected from our full sensor suite which consists of:\n",
    "- 1 x LIDAR, \n",
    "- 5 x RADAR, \n",
    "- 6 x cameras, "
   ]
  },
  {
   "cell_type": "code",
   "execution_count": 0,
   "metadata": {
    "application/vnd.databricks.v1+cell": {
     "cellMetadata": {
      "byteLimit": 2048000,
      "rowLimit": 10000
     },
     "inputWidgets": {},
     "nuid": "c4d747ff-7421-43c6-b1f8-f857ddcfe04f",
     "showTitle": false,
     "title": ""
    },
    "scrolled": true
   },
   "outputs": [],
   "source": [
    "nusc.sensor"
   ]
  },
  {
   "cell_type": "markdown",
   "metadata": {
    "application/vnd.databricks.v1+cell": {
     "cellMetadata": {
      "byteLimit": 2048000,
      "rowLimit": 10000
     },
     "inputWidgets": {},
     "nuid": "7ea6ee35-42f5-4272-aeb9-4ecc6d7638e5",
     "showTitle": false,
     "title": ""
    }
   },
   "source": [
    "Every `sample_data` has a record on which `sensor` the data is collected from (note the \"channel\" key)"
   ]
  },
  {
   "cell_type": "code",
   "execution_count": 0,
   "metadata": {
    "application/vnd.databricks.v1+cell": {
     "cellMetadata": {
      "byteLimit": 2048000,
      "rowLimit": 10000
     },
     "inputWidgets": {},
     "nuid": "006b8cd8-d0d1-455a-b062-dab6720d805c",
     "showTitle": false,
     "title": ""
    },
    "scrolled": true
   },
   "outputs": [],
   "source": [
    "nusc.sample_data[10]"
   ]
  },
  {
   "cell_type": "markdown",
   "metadata": {
    "application/vnd.databricks.v1+cell": {
     "cellMetadata": {
      "byteLimit": 2048000,
      "rowLimit": 10000
     },
     "inputWidgets": {},
     "nuid": "cea9cf3d-0ab4-43b3-afa2-ebb5552de89d",
     "showTitle": false,
     "title": ""
    }
   },
   "source": [
    "### 10. `calibrated_sensor`"
   ]
  },
  {
   "cell_type": "markdown",
   "metadata": {
    "application/vnd.databricks.v1+cell": {
     "cellMetadata": {
      "byteLimit": 2048000,
      "rowLimit": 10000
     },
     "inputWidgets": {},
     "nuid": "69b4dd93-47da-4453-9298-d2770b01581a",
     "showTitle": false,
     "title": ""
    }
   },
   "source": [
    "`calibrated_sensor` consists of the definition of a particular sensor (lidar/radar/camera) as calibrated on a particular vehicle. Let us look at an example."
   ]
  },
  {
   "cell_type": "code",
   "execution_count": 0,
   "metadata": {
    "application/vnd.databricks.v1+cell": {
     "cellMetadata": {
      "byteLimit": 2048000,
      "rowLimit": 10000
     },
     "inputWidgets": {},
     "nuid": "dec48575-dbe4-4b78-9818-d3aa12ae8f13",
     "showTitle": false,
     "title": ""
    },
    "scrolled": true
   },
   "outputs": [],
   "source": [
    "nusc.calibrated_sensor[0]"
   ]
  },
  {
   "cell_type": "markdown",
   "metadata": {
    "application/vnd.databricks.v1+cell": {
     "cellMetadata": {
      "byteLimit": 2048000,
      "rowLimit": 10000
     },
     "inputWidgets": {},
     "nuid": "a5488cef-9e7b-49c1-bc3b-b5e3b0209367",
     "showTitle": false,
     "title": ""
    }
   },
   "source": [
    "Note that the `translation` and the `rotation` parameters are given with respect to the ego vehicle body frame. "
   ]
  },
  {
   "cell_type": "markdown",
   "metadata": {
    "application/vnd.databricks.v1+cell": {
     "cellMetadata": {
      "byteLimit": 2048000,
      "rowLimit": 10000
     },
     "inputWidgets": {},
     "nuid": "55388280-a917-4968-abe4-7c7b31aede23",
     "showTitle": false,
     "title": ""
    }
   },
   "source": [
    "### 11. `ego_pose`"
   ]
  },
  {
   "cell_type": "markdown",
   "metadata": {
    "application/vnd.databricks.v1+cell": {
     "cellMetadata": {
      "byteLimit": 2048000,
      "rowLimit": 10000
     },
     "inputWidgets": {},
     "nuid": "c88098c0-2552-4e91-856f-7c1e7dcea4b2",
     "showTitle": false,
     "title": ""
    }
   },
   "source": [
    "`ego_pose` contains information about the location (encoded in `translation`) and the orientation (encoded in `rotation`) of the ego vehicle, with respect to the global coordinate system."
   ]
  },
  {
   "cell_type": "code",
   "execution_count": 0,
   "metadata": {
    "application/vnd.databricks.v1+cell": {
     "cellMetadata": {
      "byteLimit": 2048000,
      "rowLimit": 10000
     },
     "inputWidgets": {},
     "nuid": "e37e40e1-6b21-40d6-9245-ba91b4d97296",
     "showTitle": false,
     "title": ""
    }
   },
   "outputs": [],
   "source": [
    "nusc.ego_pose[0]"
   ]
  },
  {
   "cell_type": "markdown",
   "metadata": {
    "application/vnd.databricks.v1+cell": {
     "cellMetadata": {
      "byteLimit": 2048000,
      "rowLimit": 10000
     },
     "inputWidgets": {},
     "nuid": "80fa60a6-f8d1-4d55-83c3-e299253a4754",
     "showTitle": false,
     "title": ""
    }
   },
   "source": [
    "Note that the number of `ego_pose` records in our loaded database is the same as the number of `sample_data` records. These two records exhibit a one-to-one correspondence."
   ]
  },
  {
   "cell_type": "markdown",
   "metadata": {
    "application/vnd.databricks.v1+cell": {
     "cellMetadata": {
      "byteLimit": 2048000,
      "rowLimit": 10000
     },
     "inputWidgets": {},
     "nuid": "eaa1d440-2738-4437-9ee6-6eee44651ac3",
     "showTitle": false,
     "title": ""
    }
   },
   "source": [
    "### 12. `log`\n",
    "\n",
    "The `log` table contains log information from which the data was extracted. A `log` record corresponds to one journey of our ego vehicle along a predefined route. Let's check the number of logs and the metadata of a log."
   ]
  },
  {
   "cell_type": "code",
   "execution_count": 0,
   "metadata": {
    "application/vnd.databricks.v1+cell": {
     "cellMetadata": {
      "byteLimit": 2048000,
      "rowLimit": 10000
     },
     "inputWidgets": {},
     "nuid": "f2fc2330-724a-4f2e-85e3-2ad556c02561",
     "showTitle": false,
     "title": ""
    }
   },
   "outputs": [],
   "source": [
    "print(\"Number of `logs` in our loaded database: {}\".format(len(nusc.log)))"
   ]
  },
  {
   "cell_type": "code",
   "execution_count": 0,
   "metadata": {
    "application/vnd.databricks.v1+cell": {
     "cellMetadata": {
      "byteLimit": 2048000,
      "rowLimit": 10000
     },
     "inputWidgets": {},
     "nuid": "446662b4-0f76-4f76-98c2-47b05f526f21",
     "showTitle": false,
     "title": ""
    }
   },
   "outputs": [],
   "source": [
    "nusc.log[0]"
   ]
  },
  {
   "cell_type": "markdown",
   "metadata": {
    "application/vnd.databricks.v1+cell": {
     "cellMetadata": {
      "byteLimit": 2048000,
      "rowLimit": 10000
     },
     "inputWidgets": {},
     "nuid": "aec04e3e-0680-459e-ab47-3b36e1d3302c",
     "showTitle": false,
     "title": ""
    }
   },
   "source": [
    "Notice that it contains a variety of information such as the date and location of the log collected. It also gives out information about the map from where the data was collected. Note that one log can contain multiple non-overlapping scenes."
   ]
  },
  {
   "cell_type": "markdown",
   "metadata": {
    "application/vnd.databricks.v1+cell": {
     "cellMetadata": {
      "byteLimit": 2048000,
      "rowLimit": 10000
     },
     "inputWidgets": {},
     "nuid": "012d654a-b3ca-4183-8e25-a477323d4d77",
     "showTitle": false,
     "title": ""
    }
   },
   "source": [
    "### 13. `map`"
   ]
  },
  {
   "cell_type": "markdown",
   "metadata": {
    "application/vnd.databricks.v1+cell": {
     "cellMetadata": {
      "byteLimit": 2048000,
      "rowLimit": 10000
     },
     "inputWidgets": {},
     "nuid": "6334bdb4-fd02-4a78-afa3-b5b4ccaaaac5",
     "showTitle": false,
     "title": ""
    }
   },
   "source": [
    "Map information is stored as binary semantic masks from a top-down view. Let's check the number of maps and metadata of a map."
   ]
  },
  {
   "cell_type": "code",
   "execution_count": 0,
   "metadata": {
    "application/vnd.databricks.v1+cell": {
     "cellMetadata": {
      "byteLimit": 2048000,
      "rowLimit": 10000
     },
     "inputWidgets": {},
     "nuid": "3d90909b-e2b0-4013-9add-b30931af6bfd",
     "showTitle": false,
     "title": ""
    }
   },
   "outputs": [],
   "source": [
    "print(\"There are {} maps masks in the loaded dataset\".format(len(nusc.map)))"
   ]
  },
  {
   "cell_type": "code",
   "execution_count": 0,
   "metadata": {
    "application/vnd.databricks.v1+cell": {
     "cellMetadata": {
      "byteLimit": 2048000,
      "rowLimit": 10000
     },
     "inputWidgets": {},
     "nuid": "83379a7a-6784-48c5-929a-69d268ffa8f2",
     "showTitle": false,
     "title": ""
    },
    "scrolled": true
   },
   "outputs": [],
   "source": [
    "nusc.map[0]"
   ]
  },
  {
   "cell_type": "markdown",
   "metadata": {
    "application/vnd.databricks.v1+cell": {
     "cellMetadata": {
      "byteLimit": 2048000,
      "rowLimit": 10000
     },
     "inputWidgets": {},
     "nuid": "d1b97658-b55a-4a37-85bc-80ad9c42a21e",
     "showTitle": false,
     "title": ""
    }
   },
   "source": [
    "## nuScenes Basics"
   ]
  },
  {
   "cell_type": "markdown",
   "metadata": {
    "application/vnd.databricks.v1+cell": {
     "cellMetadata": {
      "byteLimit": 2048000,
      "rowLimit": 10000
     },
     "inputWidgets": {},
     "nuid": "e47ee223-5e6b-464e-94df-88afd828bd7a",
     "showTitle": false,
     "title": ""
    }
   },
   "source": [
    "Let's get a bit technical.\n",
    "\n",
    "The NuScenes class holds several tables. Each table is a list of records, and each record is a dictionary. For example the first record of the category table is stored at:"
   ]
  },
  {
   "cell_type": "code",
   "execution_count": 0,
   "metadata": {
    "application/vnd.databricks.v1+cell": {
     "cellMetadata": {
      "byteLimit": 2048000,
      "rowLimit": 10000
     },
     "inputWidgets": {},
     "nuid": "f6292646-3720-465e-b191-0c9a4b26a87c",
     "showTitle": false,
     "title": ""
    }
   },
   "outputs": [],
   "source": [
    "nusc.category[0]"
   ]
  },
  {
   "cell_type": "markdown",
   "metadata": {
    "application/vnd.databricks.v1+cell": {
     "cellMetadata": {
      "byteLimit": 2048000,
      "rowLimit": 10000
     },
     "inputWidgets": {},
     "nuid": "656e5ae5-e21e-4c59-bd97-6b2a8136d311",
     "showTitle": false,
     "title": ""
    }
   },
   "source": [
    "The category table is simple: it holds the fields `name` and `description`. It also has a `token` field, which is a unique record identifier. Since the record is a dictionary, the token can be accessed like so:"
   ]
  },
  {
   "cell_type": "code",
   "execution_count": 0,
   "metadata": {
    "application/vnd.databricks.v1+cell": {
     "cellMetadata": {
      "byteLimit": 2048000,
      "rowLimit": 10000
     },
     "inputWidgets": {},
     "nuid": "659ddecb-e942-47f2-85c2-8a725fa4129f",
     "showTitle": false,
     "title": ""
    }
   },
   "outputs": [],
   "source": [
    "cat_token = nusc.category[0]['token']\n",
    "cat_token"
   ]
  },
  {
   "cell_type": "markdown",
   "metadata": {
    "application/vnd.databricks.v1+cell": {
     "cellMetadata": {
      "byteLimit": 2048000,
      "rowLimit": 10000
     },
     "inputWidgets": {},
     "nuid": "8647224c-d10e-4566-be05-c355e4243e86",
     "showTitle": false,
     "title": ""
    }
   },
   "source": [
    "If you know the `token` for any record in the DB you can retrieve the record by doing"
   ]
  },
  {
   "cell_type": "code",
   "execution_count": 0,
   "metadata": {
    "application/vnd.databricks.v1+cell": {
     "cellMetadata": {
      "byteLimit": 2048000,
      "rowLimit": 10000
     },
     "inputWidgets": {},
     "nuid": "8209dc91-e511-47ba-b96e-d2eba5c25fc4",
     "showTitle": false,
     "title": ""
    }
   },
   "outputs": [],
   "source": [
    "nusc.get('category', cat_token)"
   ]
  },
  {
   "cell_type": "markdown",
   "metadata": {
    "application/vnd.databricks.v1+cell": {
     "cellMetadata": {
      "byteLimit": 2048000,
      "rowLimit": 10000
     },
     "inputWidgets": {},
     "nuid": "7e717446-cddf-4b7f-b456-5bf4d733f9f1",
     "showTitle": false,
     "title": ""
    }
   },
   "source": [
    "_As you can notice, we have recovered the same record!_"
   ]
  },
  {
   "cell_type": "markdown",
   "metadata": {
    "application/vnd.databricks.v1+cell": {
     "cellMetadata": {
      "byteLimit": 2048000,
      "rowLimit": 10000
     },
     "inputWidgets": {},
     "nuid": "e443f02d-03c3-47ea-8d13-daa0d3d2f0d9",
     "showTitle": false,
     "title": ""
    }
   },
   "source": [
    "OK, that was easy. Let's try something harder. Let's look at the `sample_annotation` table."
   ]
  },
  {
   "cell_type": "code",
   "execution_count": 0,
   "metadata": {
    "application/vnd.databricks.v1+cell": {
     "cellMetadata": {
      "byteLimit": 2048000,
      "rowLimit": 10000
     },
     "inputWidgets": {},
     "nuid": "c29fabb3-c73c-4b61-ad93-1f87f46d3225",
     "showTitle": false,
     "title": ""
    }
   },
   "outputs": [],
   "source": [
    "nusc.sample_annotation[0]"
   ]
  },
  {
   "cell_type": "markdown",
   "metadata": {
    "application/vnd.databricks.v1+cell": {
     "cellMetadata": {
      "byteLimit": 2048000,
      "rowLimit": 10000
     },
     "inputWidgets": {},
     "nuid": "a46a23b9-d793-4d03-a79d-725c99e32018",
     "showTitle": false,
     "title": ""
    }
   },
   "source": [
    "This also has a `token` field (they all do). In addition, it has several fields of the format [a-z]*\\_token, _e.g._ instance_token. These are foreign keys in database terminology, meaning they point to another table. \n",
    "Using `nusc.get()` we can grab any of these in constant time. For example, let's look at the visibility record."
   ]
  },
  {
   "cell_type": "code",
   "execution_count": 0,
   "metadata": {
    "application/vnd.databricks.v1+cell": {
     "cellMetadata": {
      "byteLimit": 2048000,
      "rowLimit": 10000
     },
     "inputWidgets": {},
     "nuid": "467d9ba8-c492-4296-a500-e043c176e469",
     "showTitle": false,
     "title": ""
    }
   },
   "outputs": [],
   "source": [
    "nusc.get('visibility', nusc.sample_annotation[0]['visibility_token'])"
   ]
  },
  {
   "cell_type": "markdown",
   "metadata": {
    "application/vnd.databricks.v1+cell": {
     "cellMetadata": {
      "byteLimit": 2048000,
      "rowLimit": 10000
     },
     "inputWidgets": {},
     "nuid": "3b47c84d-0ff7-475d-ae45-0c32d9b5f58e",
     "showTitle": false,
     "title": ""
    }
   },
   "source": [
    "The visibility records indicate how much of an object was visible when it was annotated.\n",
    "\n",
    "Let's also grab the `instance_token`"
   ]
  },
  {
   "cell_type": "code",
   "execution_count": 0,
   "metadata": {
    "application/vnd.databricks.v1+cell": {
     "cellMetadata": {
      "byteLimit": 2048000,
      "rowLimit": 10000
     },
     "inputWidgets": {},
     "nuid": "1aa4285b-6c14-4978-95da-4a5a8d241118",
     "showTitle": false,
     "title": ""
    }
   },
   "outputs": [],
   "source": [
    "one_instance = nusc.get('instance', nusc.sample_annotation[0]['instance_token'])\n",
    "one_instance"
   ]
  },
  {
   "cell_type": "markdown",
   "metadata": {
    "application/vnd.databricks.v1+cell": {
     "cellMetadata": {
      "byteLimit": 2048000,
      "rowLimit": 10000
     },
     "inputWidgets": {},
     "nuid": "d3b4c7f0-9c05-41de-95c4-9f61a1599476",
     "showTitle": false,
     "title": ""
    }
   },
   "source": [
    "This points to the `instance` table. This table enumerate the object _instances_ we have encountered in each \n",
    "scene. This way we can connect all annotations of a particular object.\n",
    "\n",
    "If you look carefully at the README tables, you will see that the sample_annotation table points to the instance table, \n",
    "but the instance table doesn't list all annotations that point to it. \n",
    "\n",
    "So how can we recover all sample_annotations for a particular object instance? There are two ways:\n",
    "\n",
    "1. `Use nusc.field2token()`. Let's try it:"
   ]
  },
  {
   "cell_type": "code",
   "execution_count": 0,
   "metadata": {
    "application/vnd.databricks.v1+cell": {
     "cellMetadata": {
      "byteLimit": 2048000,
      "rowLimit": 10000
     },
     "inputWidgets": {},
     "nuid": "2647a1f2-7175-4689-8fc7-73c10a5b666e",
     "showTitle": false,
     "title": ""
    }
   },
   "outputs": [],
   "source": [
    "ann_tokens = nusc.field2token('sample_annotation', 'instance_token', one_instance['token'])"
   ]
  },
  {
   "cell_type": "markdown",
   "metadata": {
    "application/vnd.databricks.v1+cell": {
     "cellMetadata": {
      "byteLimit": 2048000,
      "rowLimit": 10000
     },
     "inputWidgets": {},
     "nuid": "9a606829-d0e4-4dc4-ac37-03d4c65b4b14",
     "showTitle": false,
     "title": ""
    }
   },
   "source": [
    "This returns a list of all sample_annotation records with the `'instance_token'` == `one_instance['token']`. Let's store these in a set for now"
   ]
  },
  {
   "cell_type": "code",
   "execution_count": 0,
   "metadata": {
    "application/vnd.databricks.v1+cell": {
     "cellMetadata": {
      "byteLimit": 2048000,
      "rowLimit": 10000
     },
     "inputWidgets": {},
     "nuid": "9f122cc3-ede0-4c7c-b134-bfb0ddacee25",
     "showTitle": false,
     "title": ""
    },
    "scrolled": true
   },
   "outputs": [],
   "source": [
    "ann_tokens_field2token = set(ann_tokens)\n",
    "\n",
    "ann_tokens_field2token"
   ]
  },
  {
   "cell_type": "markdown",
   "metadata": {
    "application/vnd.databricks.v1+cell": {
     "cellMetadata": {
      "byteLimit": 2048000,
      "rowLimit": 10000
     },
     "inputWidgets": {},
     "nuid": "47db162e-aed8-4acd-b6d5-c61820f6d991",
     "showTitle": false,
     "title": ""
    }
   },
   "source": [
    "The `nusc.field2token()` method is generic and can be used in any similar situation.\n",
    "\n",
    "2. For certain situation, we provide some reverse indices in the tables themselves. This is one such example. "
   ]
  },
  {
   "cell_type": "markdown",
   "metadata": {
    "application/vnd.databricks.v1+cell": {
     "cellMetadata": {
      "byteLimit": 2048000,
      "rowLimit": 10000
     },
     "inputWidgets": {},
     "nuid": "1d10bff5-ab48-4b81-b9ed-069ce41fae60",
     "showTitle": false,
     "title": ""
    }
   },
   "source": [
    "The instance record has a field `first_annotation_token` which points to the first annotation in time of this instance. \n",
    "Recovering this record is easy."
   ]
  },
  {
   "cell_type": "code",
   "execution_count": 0,
   "metadata": {
    "application/vnd.databricks.v1+cell": {
     "cellMetadata": {
      "byteLimit": 2048000,
      "rowLimit": 10000
     },
     "inputWidgets": {},
     "nuid": "518823eb-01be-4aca-a40a-dd85612ad2bc",
     "showTitle": false,
     "title": ""
    }
   },
   "outputs": [],
   "source": [
    "ann_record = nusc.get('sample_annotation', one_instance['first_annotation_token'])\n",
    "ann_record"
   ]
  },
  {
   "cell_type": "markdown",
   "metadata": {
    "application/vnd.databricks.v1+cell": {
     "cellMetadata": {
      "byteLimit": 2048000,
      "rowLimit": 10000
     },
     "inputWidgets": {},
     "nuid": "6594801a-fb26-44f4-9d37-1efa7134513a",
     "showTitle": false,
     "title": ""
    }
   },
   "source": [
    "Now we can traverse all annotations of this instance using the \"next\" field. Let's try it. "
   ]
  },
  {
   "cell_type": "code",
   "execution_count": 0,
   "metadata": {
    "application/vnd.databricks.v1+cell": {
     "cellMetadata": {
      "byteLimit": 2048000,
      "rowLimit": 10000
     },
     "inputWidgets": {},
     "nuid": "bd267ea1-a999-4bb9-9cb8-66ab1eacca7d",
     "showTitle": false,
     "title": ""
    }
   },
   "outputs": [],
   "source": [
    "ann_tokens_traverse = set()\n",
    "ann_tokens_traverse.add(ann_record['token'])\n",
    "while not ann_record['next'] == \"\":\n",
    "    ann_record = nusc.get('sample_annotation', ann_record['next'])\n",
    "    ann_tokens_traverse.add(ann_record['token'])"
   ]
  },
  {
   "cell_type": "markdown",
   "metadata": {
    "application/vnd.databricks.v1+cell": {
     "cellMetadata": {
      "byteLimit": 2048000,
      "rowLimit": 10000
     },
     "inputWidgets": {},
     "nuid": "5ae71678-64fa-4d28-aa0f-35ec5f91a884",
     "showTitle": false,
     "title": ""
    }
   },
   "source": [
    "Finally, let's assert that we recovered the same ann_records as we did using nusc.field2token:"
   ]
  },
  {
   "cell_type": "code",
   "execution_count": 0,
   "metadata": {
    "application/vnd.databricks.v1+cell": {
     "cellMetadata": {
      "byteLimit": 2048000,
      "rowLimit": 10000
     },
     "inputWidgets": {},
     "nuid": "289a78f6-8833-4e28-86e2-7a06c7007a69",
     "showTitle": false,
     "title": ""
    }
   },
   "outputs": [],
   "source": [
    "print(ann_tokens_traverse == ann_tokens_field2token)"
   ]
  },
  {
   "cell_type": "markdown",
   "metadata": {
    "application/vnd.databricks.v1+cell": {
     "cellMetadata": {
      "byteLimit": 2048000,
      "rowLimit": 10000
     },
     "inputWidgets": {},
     "nuid": "328b20ca-1ce7-4922-bd59-d973942b46e6",
     "showTitle": false,
     "title": ""
    }
   },
   "source": [
    "## Reverse indexing and short-cuts\n",
    "\n",
    "The nuScenes tables are normalized, meaning that each piece of information is only given once.\n",
    "For example, there is one `map` record for each `log` record. Looking at the schema you will notice that the `map` table has a `log_token` field, but that the `log` table does not have a corresponding `map_token` field. But there are plenty of situations where you have a `log`, and want to find the corresponding `map`! So what to do? You can always use the `nusc.field2token()` method, but that is slow and inconvenient. We therefore add reverse mappings for some common situations including this one.\n",
    "\n",
    "Further, there are situations where one needs to go through several tables to get a certain piece of information. \n",
    "Consider, for example, the category name (e.g. `human.pedestrian`) of a `sample_annotation`. The `sample_annotation` table doesn't hold this information since the category is an instance level constant. Instead the `sample_annotation` table points to a record in the `instance` table. This, in turn, points to a record in the `category` table, where finally the `name` fields stores the required information.\n",
    "\n",
    "Since it is quite common to want to know the category name of an annotation, we add a `category_name` field to the `sample_annotation` table during initialization of the NuScenes class.\n",
    "\n",
    "In this section, we list the short-cuts and reverse indices that are added to the `NuScenes` class during initialization. These are all created in the `NuScenes.__make_reverse_index__()` method."
   ]
  },
  {
   "cell_type": "markdown",
   "metadata": {
    "application/vnd.databricks.v1+cell": {
     "cellMetadata": {
      "byteLimit": 2048000,
      "rowLimit": 10000
     },
     "inputWidgets": {},
     "nuid": "5094c16a-2628-42a4-ad65-5abd5053c5d2",
     "showTitle": false,
     "title": ""
    }
   },
   "source": [
    "### Reverse indices\n",
    "We add two reverse indices by default.\n",
    "* A `map_token` field is added to the `log` records.\n",
    "* The `sample` records have shortcuts to all `sample_annotations` for that record as well as `sample_data` key-frames. Confer `nusc.list_sample()` method in the previous section for more details on this."
   ]
  },
  {
   "cell_type": "markdown",
   "metadata": {
    "application/vnd.databricks.v1+cell": {
     "cellMetadata": {
      "byteLimit": 2048000,
      "rowLimit": 10000
     },
     "inputWidgets": {},
     "nuid": "3369d01e-5306-49e2-b3fa-831122eb3ed6",
     "showTitle": false,
     "title": ""
    }
   },
   "source": [
    "### Shortcuts"
   ]
  },
  {
   "cell_type": "markdown",
   "metadata": {
    "application/vnd.databricks.v1+cell": {
     "cellMetadata": {
      "byteLimit": 2048000,
      "rowLimit": 10000
     },
     "inputWidgets": {},
     "nuid": "10417d1e-70a8-4b94-ab70-8786ef91b6d8",
     "showTitle": false,
     "title": ""
    }
   },
   "source": [
    "The sample_annotation table has a \"category_name\" shortcut."
   ]
  },
  {
   "cell_type": "markdown",
   "metadata": {
    "application/vnd.databricks.v1+cell": {
     "cellMetadata": {
      "byteLimit": 2048000,
      "rowLimit": 10000
     },
     "inputWidgets": {},
     "nuid": "ed432e63-316c-480b-bf0c-3e0115144589",
     "showTitle": false,
     "title": ""
    }
   },
   "source": [
    "_Using shortcut:_"
   ]
  },
  {
   "cell_type": "code",
   "execution_count": 0,
   "metadata": {
    "application/vnd.databricks.v1+cell": {
     "cellMetadata": {
      "byteLimit": 2048000,
      "rowLimit": 10000
     },
     "inputWidgets": {},
     "nuid": "b1366239-7966-4564-a5ca-90bb5488a1ca",
     "showTitle": false,
     "title": ""
    }
   },
   "outputs": [],
   "source": [
    "catname = nusc.sample_annotation[0]['category_name']"
   ]
  },
  {
   "cell_type": "markdown",
   "metadata": {
    "application/vnd.databricks.v1+cell": {
     "cellMetadata": {
      "byteLimit": 2048000,
      "rowLimit": 10000
     },
     "inputWidgets": {},
     "nuid": "f8901aed-e968-4186-9a7a-ce539e3f6c3d",
     "showTitle": false,
     "title": ""
    }
   },
   "source": [
    "_Not using shortcut:_"
   ]
  },
  {
   "cell_type": "code",
   "execution_count": 0,
   "metadata": {
    "application/vnd.databricks.v1+cell": {
     "cellMetadata": {
      "byteLimit": 2048000,
      "rowLimit": 10000
     },
     "inputWidgets": {},
     "nuid": "5efe6ae0-2a43-44c6-a4fc-74eacaf2992d",
     "showTitle": false,
     "title": ""
    }
   },
   "outputs": [],
   "source": [
    "ann_rec = nusc.sample_annotation[0]\n",
    "inst_rec = nusc.get('instance', ann_rec['instance_token'])\n",
    "cat_rec = nusc.get('category', inst_rec['category_token'])\n",
    "\n",
    "print(catname == cat_rec['name'])"
   ]
  },
  {
   "cell_type": "markdown",
   "metadata": {
    "application/vnd.databricks.v1+cell": {
     "cellMetadata": {
      "byteLimit": 2048000,
      "rowLimit": 10000
     },
     "inputWidgets": {},
     "nuid": "f883a681-3312-4a29-85e6-ef7368918597",
     "showTitle": false,
     "title": ""
    }
   },
   "source": [
    "The sample_data table has \"channel\" and \"sensor_modality\" shortcuts:"
   ]
  },
  {
   "cell_type": "code",
   "execution_count": 0,
   "metadata": {
    "application/vnd.databricks.v1+cell": {
     "cellMetadata": {
      "byteLimit": 2048000,
      "rowLimit": 10000
     },
     "inputWidgets": {},
     "nuid": "22fb926b-6dd3-47cc-8fe3-ba2e9256958b",
     "showTitle": false,
     "title": ""
    }
   },
   "outputs": [],
   "source": [
    "# Shortcut\n",
    "channel = nusc.sample_data[0]['channel']\n",
    "\n",
    "# No shortcut\n",
    "sd_rec = nusc.sample_data[0]\n",
    "cs_record = nusc.get('calibrated_sensor', sd_rec['calibrated_sensor_token'])\n",
    "sensor_record = nusc.get('sensor', cs_record['sensor_token'])\n",
    "\n",
    "print(channel == sensor_record['channel'])"
   ]
  },
  {
   "cell_type": "markdown",
   "metadata": {
    "application/vnd.databricks.v1+cell": {
     "cellMetadata": {
      "byteLimit": 2048000,
      "rowLimit": 10000
     },
     "inputWidgets": {},
     "nuid": "edb9bd2b-0ea2-4d01-a0b1-bd74bbdc448c",
     "showTitle": false,
     "title": ""
    }
   },
   "source": [
    "## Data Visualizations\n",
    "\n",
    "We provide list and rendering methods. These are meant both as convenience methods during development, and as tutorials for building your own visualization methods. They are implemented in the NuScenesExplorer class, with shortcuts through the NuScenes class itself."
   ]
  },
  {
   "cell_type": "markdown",
   "metadata": {
    "application/vnd.databricks.v1+cell": {
     "cellMetadata": {
      "byteLimit": 2048000,
      "rowLimit": 10000
     },
     "inputWidgets": {},
     "nuid": "5090fb0e-2a1e-492b-81cc-3af1d21cccbe",
     "showTitle": false,
     "title": ""
    }
   },
   "source": [
    "### List methods\n",
    "There are three list methods available."
   ]
  },
  {
   "cell_type": "markdown",
   "metadata": {
    "application/vnd.databricks.v1+cell": {
     "cellMetadata": {
      "byteLimit": 2048000,
      "rowLimit": 10000
     },
     "inputWidgets": {},
     "nuid": "55536c81-e2a6-41fa-8bf6-5e85dba236f4",
     "showTitle": false,
     "title": ""
    }
   },
   "source": [
    "1. `list_categories()` lists all categories, counts and statistics of width/length/height in meters and aspect ratio."
   ]
  },
  {
   "cell_type": "code",
   "execution_count": 0,
   "metadata": {
    "application/vnd.databricks.v1+cell": {
     "cellMetadata": {
      "byteLimit": 2048000,
      "rowLimit": 10000
     },
     "inputWidgets": {},
     "nuid": "fae7e50f-990d-463b-87ed-6d3a7029054f",
     "showTitle": false,
     "title": ""
    }
   },
   "outputs": [],
   "source": [
    "nusc.list_categories()"
   ]
  },
  {
   "cell_type": "markdown",
   "metadata": {
    "application/vnd.databricks.v1+cell": {
     "cellMetadata": {
      "byteLimit": 2048000,
      "rowLimit": 10000
     },
     "inputWidgets": {},
     "nuid": "e098b152-8ff7-44b4-bfc7-9f80f2b708d4",
     "showTitle": false,
     "title": ""
    }
   },
   "source": [
    "2. `list_attributes()` lists all attributes and counts."
   ]
  },
  {
   "cell_type": "code",
   "execution_count": 0,
   "metadata": {
    "application/vnd.databricks.v1+cell": {
     "cellMetadata": {
      "byteLimit": 2048000,
      "rowLimit": 10000
     },
     "inputWidgets": {},
     "nuid": "a55cdd97-a913-463f-b832-766e39e2e9f7",
     "showTitle": false,
     "title": ""
    }
   },
   "outputs": [],
   "source": [
    "nusc.list_attributes()"
   ]
  },
  {
   "cell_type": "markdown",
   "metadata": {
    "application/vnd.databricks.v1+cell": {
     "cellMetadata": {
      "byteLimit": 2048000,
      "rowLimit": 10000
     },
     "inputWidgets": {},
     "nuid": "cfcf75d6-2c00-4549-aeb0-82984c0d72d0",
     "showTitle": false,
     "title": ""
    }
   },
   "source": [
    "3. `list_scenes()` lists all scenes in the loaded DB."
   ]
  },
  {
   "cell_type": "code",
   "execution_count": 0,
   "metadata": {
    "application/vnd.databricks.v1+cell": {
     "cellMetadata": {
      "byteLimit": 2048000,
      "rowLimit": 10000
     },
     "inputWidgets": {},
     "nuid": "ff62a47b-74b5-4e6a-8a69-70a592b09ed9",
     "showTitle": false,
     "title": ""
    }
   },
   "outputs": [],
   "source": [
    "nusc.list_scenes()"
   ]
  },
  {
   "cell_type": "markdown",
   "metadata": {
    "application/vnd.databricks.v1+cell": {
     "cellMetadata": {
      "byteLimit": 2048000,
      "rowLimit": 10000
     },
     "inputWidgets": {},
     "nuid": "7d1e9d83-961c-4575-996d-aeead7bbb470",
     "showTitle": false,
     "title": ""
    }
   },
   "source": [
    "### Render"
   ]
  },
  {
   "cell_type": "markdown",
   "metadata": {
    "application/vnd.databricks.v1+cell": {
     "cellMetadata": {
      "byteLimit": 2048000,
      "rowLimit": 10000
     },
     "inputWidgets": {},
     "nuid": "2435f7ed-65cd-4ac5-a795-ddfae3da77fc",
     "showTitle": false,
     "title": ""
    }
   },
   "source": [
    "First, let's plot a lidar point cloud in an image. Lidar allows us to accurately map the surroundings in 3D."
   ]
  },
  {
   "cell_type": "code",
   "execution_count": 0,
   "metadata": {
    "application/vnd.databricks.v1+cell": {
     "cellMetadata": {
      "byteLimit": 2048000,
      "rowLimit": 10000
     },
     "inputWidgets": {},
     "nuid": "0a651311-11de-4554-ba7f-10036034499d",
     "showTitle": false,
     "title": ""
    }
   },
   "outputs": [],
   "source": [
    "my_sample = nusc.sample[10]\n",
    "nusc.render_pointcloud_in_image(my_sample['token'], pointsensor_channel='LIDAR_TOP')"
   ]
  },
  {
   "cell_type": "markdown",
   "metadata": {
    "application/vnd.databricks.v1+cell": {
     "cellMetadata": {
      "byteLimit": 2048000,
      "rowLimit": 10000
     },
     "inputWidgets": {},
     "nuid": "ee8c6c18-6992-494a-b8f7-b2569ca4bc03",
     "showTitle": false,
     "title": ""
    }
   },
   "source": [
    "In the previous image the colors indicate the distance from the ego vehicle to each lidar point. We can also render the lidar intensity. In the following image the traffic sign ahead of us is highly reflective (yellow) and the dark vehicle on the right has low reflectivity (purple)."
   ]
  },
  {
   "cell_type": "code",
   "execution_count": 0,
   "metadata": {
    "application/vnd.databricks.v1+cell": {
     "cellMetadata": {
      "byteLimit": 2048000,
      "rowLimit": 10000
     },
     "inputWidgets": {},
     "nuid": "ecc65399-0511-4982-b7b8-339dabadc287",
     "showTitle": false,
     "title": ""
    }
   },
   "outputs": [],
   "source": [
    "nusc.render_pointcloud_in_image(my_sample['token'], pointsensor_channel='LIDAR_TOP', render_intensity=True)"
   ]
  },
  {
   "cell_type": "markdown",
   "metadata": {
    "application/vnd.databricks.v1+cell": {
     "cellMetadata": {
      "byteLimit": 2048000,
      "rowLimit": 10000
     },
     "inputWidgets": {},
     "nuid": "e1a48ad5-b3a3-42a0-890b-3a1023aa7513",
     "showTitle": false,
     "title": ""
    }
   },
   "source": [
    "Second, let's plot the radar point cloud for the same image. Radar is less dense than lidar, but has a much larger range."
   ]
  },
  {
   "cell_type": "code",
   "execution_count": 0,
   "metadata": {
    "application/vnd.databricks.v1+cell": {
     "cellMetadata": {
      "byteLimit": 2048000,
      "rowLimit": 10000
     },
     "inputWidgets": {},
     "nuid": "9aeee5eb-a465-4631-8e56-d7c3d45b0d25",
     "showTitle": false,
     "title": ""
    }
   },
   "outputs": [],
   "source": [
    "nusc.render_pointcloud_in_image(my_sample['token'], pointsensor_channel='RADAR_FRONT')"
   ]
  },
  {
   "cell_type": "markdown",
   "metadata": {
    "application/vnd.databricks.v1+cell": {
     "cellMetadata": {
      "byteLimit": 2048000,
      "rowLimit": 10000
     },
     "inputWidgets": {},
     "nuid": "8ac4155a-501c-4008-834b-2ad335107282",
     "showTitle": false,
     "title": ""
    }
   },
   "source": [
    "We can also plot all annotations across all sample data for that sample. Note how for radar we also plot the velocity vectors of moving objects. Some velocity vectors are outliers, which can be filtered using the settings in RadarPointCloud.from_file()"
   ]
  },
  {
   "cell_type": "code",
   "execution_count": 0,
   "metadata": {
    "application/vnd.databricks.v1+cell": {
     "cellMetadata": {
      "byteLimit": 2048000,
      "rowLimit": 10000
     },
     "inputWidgets": {},
     "nuid": "a6af480c-7e25-4db7-8229-b098207c65a8",
     "showTitle": false,
     "title": ""
    }
   },
   "outputs": [],
   "source": [
    "my_sample = nusc.sample[20]\n",
    "\n",
    "# The rendering command below is commented out because it may crash in notebooks\n",
    "nusc.render_sample(my_sample['token'])"
   ]
  },
  {
   "cell_type": "markdown",
   "metadata": {
    "application/vnd.databricks.v1+cell": {
     "cellMetadata": {
      "byteLimit": 2048000,
      "rowLimit": 10000
     },
     "inputWidgets": {},
     "nuid": "c9cd290d-414f-42f1-ae95-906eecf20fa5",
     "showTitle": false,
     "title": ""
    }
   },
   "source": [
    "Or if we only want to render a particular sensor, we can specify that."
   ]
  },
  {
   "cell_type": "code",
   "execution_count": 0,
   "metadata": {
    "application/vnd.databricks.v1+cell": {
     "cellMetadata": {
      "byteLimit": 2048000,
      "rowLimit": 10000
     },
     "inputWidgets": {},
     "nuid": "5c98b7f6-7996-4ad7-9e01-88b6e5ed6104",
     "showTitle": false,
     "title": ""
    }
   },
   "outputs": [],
   "source": [
    "nusc.render_sample_data(my_sample['data']['CAM_FRONT'])"
   ]
  },
  {
   "cell_type": "markdown",
   "metadata": {
    "application/vnd.databricks.v1+cell": {
     "cellMetadata": {
      "byteLimit": 2048000,
      "rowLimit": 10000
     },
     "inputWidgets": {},
     "nuid": "9be5c843-70eb-4c9c-937c-346c7a192d96",
     "showTitle": false,
     "title": ""
    }
   },
   "source": [
    "Additionally we can aggregate the point clouds from multiple sweeps to get a denser point cloud."
   ]
  },
  {
   "cell_type": "code",
   "execution_count": 0,
   "metadata": {
    "application/vnd.databricks.v1+cell": {
     "cellMetadata": {
      "byteLimit": 2048000,
      "rowLimit": 10000
     },
     "inputWidgets": {},
     "nuid": "29452ff8-5cc8-427a-ad4e-3d381eccd609",
     "showTitle": false,
     "title": ""
    }
   },
   "outputs": [],
   "source": [
    "nusc.render_sample_data(my_sample['data']['LIDAR_TOP'], nsweeps=5, underlay_map=True)\n",
    "nusc.render_sample_data(my_sample['data']['RADAR_FRONT'], nsweeps=5, underlay_map=True)"
   ]
  },
  {
   "cell_type": "markdown",
   "metadata": {
    "application/vnd.databricks.v1+cell": {
     "cellMetadata": {
      "byteLimit": 2048000,
      "rowLimit": 10000
     },
     "inputWidgets": {},
     "nuid": "a04e47e4-0989-4e06-b65d-056ffe352c80",
     "showTitle": false,
     "title": ""
    }
   },
   "source": [
    "In the radar plot above we only see very confident radar returns from two vehicles. This is due to the filter settings defined in the file `nuscenes/utils/data_classes.py`. If instead we want to disable all filters and render all returns, we can use the `disable_filters()` function. This returns a denser point cloud, but with many returns from background objects. To return to the default settings, simply call `default_filters()`."
   ]
  },
  {
   "cell_type": "code",
   "execution_count": 0,
   "metadata": {
    "application/vnd.databricks.v1+cell": {
     "cellMetadata": {
      "byteLimit": 2048000,
      "rowLimit": 10000
     },
     "inputWidgets": {},
     "nuid": "47336bb0-3362-4585-ab23-5443f70aed57",
     "showTitle": false,
     "title": ""
    }
   },
   "outputs": [],
   "source": [
    "from nuscenes.utils.data_classes import RadarPointCloud\n",
    "RadarPointCloud.disable_filters()\n",
    "nusc.render_sample_data(my_sample['data']['RADAR_FRONT'], nsweeps=5, underlay_map=True)\n",
    "RadarPointCloud.default_filters()"
   ]
  },
  {
   "cell_type": "markdown",
   "metadata": {
    "application/vnd.databricks.v1+cell": {
     "cellMetadata": {
      "byteLimit": 2048000,
      "rowLimit": 10000
     },
     "inputWidgets": {},
     "nuid": "4ddf0a80-7bce-47f9-a16a-d02ceae38298",
     "showTitle": false,
     "title": ""
    }
   },
   "source": [
    "We can even render a specific annotation."
   ]
  },
  {
   "cell_type": "code",
   "execution_count": 0,
   "metadata": {
    "application/vnd.databricks.v1+cell": {
     "cellMetadata": {
      "byteLimit": 2048000,
      "rowLimit": 10000
     },
     "inputWidgets": {},
     "nuid": "7f36709c-b1ed-400c-af85-d49bc22d2c6f",
     "showTitle": false,
     "title": ""
    }
   },
   "outputs": [],
   "source": [
    "nusc.render_annotation(my_sample['anns'][22])"
   ]
  },
  {
   "cell_type": "markdown",
   "metadata": {
    "application/vnd.databricks.v1+cell": {
     "cellMetadata": {
      "byteLimit": 2048000,
      "rowLimit": 10000
     },
     "inputWidgets": {},
     "nuid": "4a01a1e5-a825-42df-a2d8-8533534006f2",
     "showTitle": false,
     "title": ""
    }
   },
   "source": [
    "Finally, we can render a full scene as a video. There are two options here:\n",
    "1. nusc.render_scene_channel() renders the video for a particular channel. (HIT ESC to exit)\n",
    "2. nusc.render_scene() renders the video for all camera channels.\n",
    "\n",
    "NOTE: These methods use OpenCV for rendering, which doesn't always play nice with IPython Notebooks. If you experience any issues please run these lines from the command line. \n",
    "\n",
    "Let's grab scene 0061, it is nice and dense."
   ]
  },
  {
   "cell_type": "code",
   "execution_count": 0,
   "metadata": {
    "application/vnd.databricks.v1+cell": {
     "cellMetadata": {
      "byteLimit": 2048000,
      "rowLimit": 10000
     },
     "inputWidgets": {},
     "nuid": "bd0e7347-4b59-4a29-9115-313637b3ee11",
     "showTitle": false,
     "title": ""
    }
   },
   "outputs": [],
   "source": [
    "my_scene_token = nusc.field2token('scene', 'name', 'scene-0061')[0]"
   ]
  },
  {
   "cell_type": "code",
   "execution_count": 0,
   "metadata": {
    "application/vnd.databricks.v1+cell": {
     "cellMetadata": {
      "byteLimit": 2048000,
      "rowLimit": 10000
     },
     "inputWidgets": {},
     "nuid": "00c6d196-e39e-4020-81de-eea20559b73f",
     "showTitle": false,
     "title": ""
    }
   },
   "outputs": [],
   "source": [
    "# The rendering command below is commented out because it may crash in notebooks\n",
    "# nusc.render_scene_channel(my_scene_token, 'CAM_FRONT')"
   ]
  },
  {
   "cell_type": "markdown",
   "metadata": {
    "application/vnd.databricks.v1+cell": {
     "cellMetadata": {
      "byteLimit": 2048000,
      "rowLimit": 10000
     },
     "inputWidgets": {},
     "nuid": "11081eff-ee6c-4d10-98b5-5f609ba149b6",
     "showTitle": false,
     "title": ""
    }
   },
   "source": [
    "There is also a method nusc.render_scene() which renders the video for all camera channels. \n",
    "This requires a high-res monitor, and is also best run outside this notebook."
   ]
  },
  {
   "cell_type": "code",
   "execution_count": 0,
   "metadata": {
    "application/vnd.databricks.v1+cell": {
     "cellMetadata": {
      "byteLimit": 2048000,
      "rowLimit": 10000
     },
     "inputWidgets": {},
     "nuid": "507f0788-415c-4bd2-98fa-2754ab904a14",
     "showTitle": false,
     "title": ""
    }
   },
   "outputs": [],
   "source": [
    "# The rendering command below is commented out because it may crash in notebooks\n",
    "# nusc.render_scene(my_scene_token)"
   ]
  },
  {
   "cell_type": "markdown",
   "metadata": {
    "application/vnd.databricks.v1+cell": {
     "cellMetadata": {
      "byteLimit": 2048000,
      "rowLimit": 10000
     },
     "inputWidgets": {},
     "nuid": "23d3104f-39b9-4fa4-82dd-2ac94fb8d88d",
     "showTitle": false,
     "title": ""
    }
   },
   "source": [
    "Finally, let us visualize all scenes on the map for a particular location."
   ]
  },
  {
   "cell_type": "code",
   "execution_count": 0,
   "metadata": {
    "application/vnd.databricks.v1+cell": {
     "cellMetadata": {
      "byteLimit": 2048000,
      "rowLimit": 10000
     },
     "inputWidgets": {},
     "nuid": "4922ead2-8e5d-42aa-b00f-ea1749f6e296",
     "showTitle": false,
     "title": ""
    }
   },
   "outputs": [],
   "source": [
    "nusc.render_egoposes_on_map(log_location='singapore-onenorth')"
   ]
  }
 ],
 "metadata": {
  "application/vnd.databricks.v1+notebook": {
   "dashboards": [],
   "environmentMetadata": {
    "base_environment": "",
    "client": "1"
   },
   "language": "python",
   "notebookMetadata": {
    "pythonIndentUnit": 2
   },
   "notebookName": "nuscenes_tutorial",
   "widgets": {}
  },
  "kernelspec": {
   "display_name": "Python 3",
   "language": "python",
   "name": "python3"
  },
  "language_info": {
   "codemirror_mode": {
    "name": "ipython",
    "version": 3
   },
   "file_extension": ".py",
   "mimetype": "text/x-python",
   "name": "python",
   "nbconvert_exporter": "python",
   "pygments_lexer": "ipython3",
   "version": "3.7.7"
  }
 },
 "nbformat": 4,
 "nbformat_minor": 0
}
